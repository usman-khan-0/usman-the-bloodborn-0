{
  "nbformat": 4,
  "nbformat_minor": 0,
  "metadata": {
    "colab": {
      "provenance": []
    },
    "kernelspec": {
      "name": "python3",
      "display_name": "Python 3"
    },
    "language_info": {
      "name": "python"
    }
  },
  "cells": [
    {
      "cell_type": "code",
      "execution_count": 1,
      "metadata": {
        "colab": {
          "base_uri": "https://localhost:8080/"
        },
        "id": "oU6bwhpbeRqN",
        "outputId": "895ef5fc-4cee-4389-d435-d90f9f8ce810"
      },
      "outputs": [
        {
          "output_type": "stream",
          "name": "stdout",
          "text": [
            "Hello world\n"
          ]
        }
      ],
      "source": [
        "s = \"hello world\"\n",
        "print(s.capitalize())  # Output: Hello world"
      ]
    },
    {
      "cell_type": "markdown",
      "source": [
        "capitalize(): Capitalizes the first character and converts the rest to lowercase."
      ],
      "metadata": {
        "id": "s1uRwUUEgCEX"
      }
    },
    {
      "cell_type": "code",
      "source": [
        "s = \"Hello WORLD\"\n",
        "print(s.casefold())  # Output: hello world"
      ],
      "metadata": {
        "colab": {
          "base_uri": "https://localhost:8080/"
        },
        "id": "zBS8fS17gTBm",
        "outputId": "15a4c9cb-c300-4111-d8dd-a5609d13db70"
      },
      "execution_count": 2,
      "outputs": [
        {
          "output_type": "stream",
          "name": "stdout",
          "text": [
            "hello world\n"
          ]
        }
      ]
    },
    {
      "cell_type": "markdown",
      "source": [
        "casefold(): Converts the string to lowercase for case-insensitive comparisons (more aggressive than lower())."
      ],
      "metadata": {
        "id": "TQuWFFkbgX1L"
      }
    },
    {
      "cell_type": "code",
      "source": [
        "s = \"Hello WORLD\"\n",
        "print(s.casefold())  # Output: hello world"
      ],
      "metadata": {
        "colab": {
          "base_uri": "https://localhost:8080/"
        },
        "id": "ZjGtgU1JgdDj",
        "outputId": "9e78f59c-cdc5-4b72-d916-7e7f51bca0a7"
      },
      "execution_count": 3,
      "outputs": [
        {
          "output_type": "stream",
          "name": "stdout",
          "text": [
            "hello world\n"
          ]
        }
      ]
    },
    {
      "cell_type": "markdown",
      "source": [
        "lower(): Converts all characters to lowercase."
      ],
      "metadata": {
        "id": "jZB0tMupgqDI"
      }
    },
    {
      "cell_type": "code",
      "source": [
        "s = \"hello world\"\n",
        "print(s.upper())  # Output: HELLO WORLD"
      ],
      "metadata": {
        "colab": {
          "base_uri": "https://localhost:8080/"
        },
        "id": "RAq_9j7RgvfL",
        "outputId": "d16a88aa-a1d3-4ab9-b1ef-86a0bd3268be"
      },
      "execution_count": 6,
      "outputs": [
        {
          "output_type": "stream",
          "name": "stdout",
          "text": [
            "HELLO WORLD\n"
          ]
        }
      ]
    },
    {
      "cell_type": "markdown",
      "source": [
        "upper(): Converts all characters to uppercase."
      ],
      "metadata": {
        "id": "fZUbTMRmhBK_"
      }
    },
    {
      "cell_type": "code",
      "source": [
        "s = \"hello world\"\n",
        "print(s.title())  # Output: Hello World"
      ],
      "metadata": {
        "colab": {
          "base_uri": "https://localhost:8080/"
        },
        "id": "cs5pFtsYhC2u",
        "outputId": "944d47af-9fe7-4e76-feb4-f379262531d5"
      },
      "execution_count": 7,
      "outputs": [
        {
          "output_type": "stream",
          "name": "stdout",
          "text": [
            "Hello World\n"
          ]
        }
      ]
    },
    {
      "cell_type": "markdown",
      "source": [
        "title(): Capitalizes the first character of each word."
      ],
      "metadata": {
        "id": "wsrm4v62hMlL"
      }
    },
    {
      "cell_type": "code",
      "source": [
        "s = \"Hello World\"\n",
        "print(s.swapcase())  # Output: hELLO wORLD"
      ],
      "metadata": {
        "colab": {
          "base_uri": "https://localhost:8080/"
        },
        "id": "EYXUccFJhNcS",
        "outputId": "a2383d1a-039a-4f1b-ba23-c01453effdd7"
      },
      "execution_count": 8,
      "outputs": [
        {
          "output_type": "stream",
          "name": "stdout",
          "text": [
            "hELLO wORLD\n"
          ]
        }
      ]
    },
    {
      "cell_type": "markdown",
      "source": [
        "swapcase(): Swaps the case of all characters (uppercase to lowercase and vice versa)."
      ],
      "metadata": {
        "id": "ZyyFoOG4holo"
      }
    },
    {
      "cell_type": "code",
      "source": [
        "s = \"hello hello world\"\n",
        "print(s.count(\"hello\"))  # Output: 2"
      ],
      "metadata": {
        "colab": {
          "base_uri": "https://localhost:8080/"
        },
        "id": "JBSwejRKhxxg",
        "outputId": "6f4c0c19-1560-4534-9604-d2ae20d89f3d"
      },
      "execution_count": 9,
      "outputs": [
        {
          "output_type": "stream",
          "name": "stdout",
          "text": [
            "2\n"
          ]
        }
      ]
    },
    {
      "cell_type": "markdown",
      "source": [
        "count(sub[, start[, end]]): Counts occurrences of a substring in the string."
      ],
      "metadata": {
        "id": "38H0wuxyh9Dj"
      }
    },
    {
      "cell_type": "code",
      "source": [
        "s = \"hello world\"\n",
        "print(s.find(\"world\"))  # Output: 6"
      ],
      "metadata": {
        "colab": {
          "base_uri": "https://localhost:8080/"
        },
        "id": "BWpb-S-8iF0K",
        "outputId": "a87695d1-9bdc-4843-e8fd-b6800de7dafb"
      },
      "execution_count": 10,
      "outputs": [
        {
          "output_type": "stream",
          "name": "stdout",
          "text": [
            "6\n"
          ]
        }
      ]
    },
    {
      "cell_type": "markdown",
      "source": [
        "find(sub[, start[, end]]): Returns the lowest index of the substring; returns -1 if not found."
      ],
      "metadata": {
        "id": "kljYo69ViL2S"
      }
    },
    {
      "cell_type": "code",
      "source": [
        "s = \"hello hello world\"\n",
        "print(s.rfind(\"hello\"))  # Output: 6"
      ],
      "metadata": {
        "colab": {
          "base_uri": "https://localhost:8080/"
        },
        "id": "QqHjRXgkiRWL",
        "outputId": "fcecb407-e72a-42a0-b9a5-a5398359786c"
      },
      "execution_count": 11,
      "outputs": [
        {
          "output_type": "stream",
          "name": "stdout",
          "text": [
            "6\n"
          ]
        }
      ]
    },
    {
      "cell_type": "markdown",
      "source": [
        "rfind(sub[, start[, end]]): Returns the highest index of the substring; returns -1 if not found."
      ],
      "metadata": {
        "id": "GryMfOt-ibhI"
      }
    },
    {
      "cell_type": "code",
      "source": [
        "s = \"hello world\"\n",
        "print(s.index(\"world\"))  # Output: 6"
      ],
      "metadata": {
        "colab": {
          "base_uri": "https://localhost:8080/"
        },
        "id": "ouDYbGlaifFz",
        "outputId": "127337af-c31b-4aa7-8e9e-dcfb9921719d"
      },
      "execution_count": 12,
      "outputs": [
        {
          "output_type": "stream",
          "name": "stdout",
          "text": [
            "6\n"
          ]
        }
      ]
    },
    {
      "cell_type": "markdown",
      "source": [
        "index(sub[, start[, end]]): Like find(), but raises ValueError if the substring is not found."
      ],
      "metadata": {
        "id": "EtOj_KlTizyO"
      }
    },
    {
      "cell_type": "code",
      "source": [
        "s = \"hello hello world\"\n",
        "print(s.rindex(\"hello\"))  # Output: 6"
      ],
      "metadata": {
        "colab": {
          "base_uri": "https://localhost:8080/"
        },
        "id": "cihi9EmcjCoC",
        "outputId": "27c28730-0e83-49fb-c0ba-8e3ec1ef6855"
      },
      "execution_count": 13,
      "outputs": [
        {
          "output_type": "stream",
          "name": "stdout",
          "text": [
            "6\n"
          ]
        }
      ]
    },
    {
      "cell_type": "markdown",
      "source": [
        "rindex(sub[, start[, end]]): Like rfind(), but raises ValueError if the substring is not found."
      ],
      "metadata": {
        "id": "YD-QCD1LjHfy"
      }
    },
    {
      "cell_type": "code",
      "source": [
        "s = \"hello world\"\n",
        "print(s.startswith(\"hello\"))  # Output: True"
      ],
      "metadata": {
        "colab": {
          "base_uri": "https://localhost:8080/"
        },
        "id": "3exxqQpUjLhI",
        "outputId": "bb6c6275-1967-41b4-db24-00c670cfa1d2"
      },
      "execution_count": 14,
      "outputs": [
        {
          "output_type": "stream",
          "name": "stdout",
          "text": [
            "True\n"
          ]
        }
      ]
    },
    {
      "cell_type": "markdown",
      "source": [
        "startswith(prefix[, start[, end]]): Checks if the string starts with the specified prefix."
      ],
      "metadata": {
        "id": "OVcXos-6jQq1"
      }
    },
    {
      "cell_type": "code",
      "source": [
        "s = \"hello world\"\n",
        "print(s.endswith(\"world\"))  # Output: True"
      ],
      "metadata": {
        "id": "z0qC_MKsjVhu"
      },
      "execution_count": null,
      "outputs": []
    },
    {
      "cell_type": "markdown",
      "source": [
        "endswith(suffix[, start[, end]]): Checks if the string ends with the specified suffix."
      ],
      "metadata": {
        "id": "V6oo0erLjYu7"
      }
    },
    {
      "cell_type": "code",
      "source": [
        "s = \"hello world\"\n",
        "print(s.replace(\"world\", \"Python\"))  # Output: hello Python"
      ],
      "metadata": {
        "colab": {
          "base_uri": "https://localhost:8080/"
        },
        "id": "QRXIX4tJjcDc",
        "outputId": "483f325d-5f6c-44c5-a2cb-7618c1c13c4b"
      },
      "execution_count": 15,
      "outputs": [
        {
          "output_type": "stream",
          "name": "stdout",
          "text": [
            "hello Python\n"
          ]
        }
      ]
    },
    {
      "cell_type": "markdown",
      "source": [
        "replace(old, new[, count]): Replaces occurrences of a substring with another substring."
      ],
      "metadata": {
        "id": "cJ2tQPK8jjcs"
      }
    },
    {
      "cell_type": "code",
      "source": [
        "s = \"  hello world  \"\n",
        "print(s.strip())  # Output: hello world"
      ],
      "metadata": {
        "colab": {
          "base_uri": "https://localhost:8080/"
        },
        "id": "_AOMpLnZjnOs",
        "outputId": "29016f82-a46f-457a-dca0-852a7405e0d9"
      },
      "execution_count": 16,
      "outputs": [
        {
          "output_type": "stream",
          "name": "stdout",
          "text": [
            "hello world\n"
          ]
        }
      ]
    },
    {
      "cell_type": "markdown",
      "source": [
        "strip([chars]): Removes leading and trailing characters (default: whitespace)."
      ],
      "metadata": {
        "id": "sAejfrCqjqiD"
      }
    },
    {
      "cell_type": "code",
      "source": [
        "s = \"  hello world  \"\n",
        "print(s.lstrip())  # Output: hello world"
      ],
      "metadata": {
        "colab": {
          "base_uri": "https://localhost:8080/"
        },
        "id": "ufBaJ7mGjvB5",
        "outputId": "4d3782de-8bf1-42cd-a837-3de166b3db60"
      },
      "execution_count": 17,
      "outputs": [
        {
          "output_type": "stream",
          "name": "stdout",
          "text": [
            "hello world  \n"
          ]
        }
      ]
    },
    {
      "cell_type": "markdown",
      "source": [
        "lstrip([chars]): Removes leading characters (default: whitespace)."
      ],
      "metadata": {
        "id": "9R8XgFc3jyDF"
      }
    },
    {
      "cell_type": "code",
      "source": [
        "s = \"  hello world  \"\n",
        "print(s.rstrip())  # Output:   hello world"
      ],
      "metadata": {
        "colab": {
          "base_uri": "https://localhost:8080/"
        },
        "id": "COJYttknj2RX",
        "outputId": "22071bc4-fb54-48fd-9baf-f999c150466b"
      },
      "execution_count": 18,
      "outputs": [
        {
          "output_type": "stream",
          "name": "stdout",
          "text": [
            "  hello world\n"
          ]
        }
      ]
    },
    {
      "cell_type": "markdown",
      "source": [
        "rstrip([chars]): Removes trailing characters (default: whitespace)."
      ],
      "metadata": {
        "id": "3cKl44i8j9NN"
      }
    },
    {
      "cell_type": "code",
      "source": [
        "s = \"hello\\tworld\"\n",
        "print(s.expandtabs(4))  # Output: hello    world"
      ],
      "metadata": {
        "colab": {
          "base_uri": "https://localhost:8080/"
        },
        "id": "bhPTuccIj-SG",
        "outputId": "ba27b65b-6d8d-4ab2-e949-3313e4158924"
      },
      "execution_count": 19,
      "outputs": [
        {
          "output_type": "stream",
          "name": "stdout",
          "text": [
            "hello   world\n"
          ]
        }
      ]
    },
    {
      "cell_type": "markdown",
      "source": [
        "expandtabs(tabsize=8): Replaces tabs (\\t) with spaces, using the specified tab size."
      ],
      "metadata": {
        "id": "FY1ii-5vkB8n"
      }
    },
    {
      "cell_type": "code",
      "source": [
        "s = \"42\"\n",
        "print(s.zfill(5))  # Output: 00042"
      ],
      "metadata": {
        "colab": {
          "base_uri": "https://localhost:8080/"
        },
        "id": "EP6eEdIpkF0f",
        "outputId": "08c52bd5-1da5-4cf5-806a-263f571519bf"
      },
      "execution_count": 20,
      "outputs": [
        {
          "output_type": "stream",
          "name": "stdout",
          "text": [
            "00042\n"
          ]
        }
      ]
    },
    {
      "cell_type": "markdown",
      "source": [
        "zfill(width): Pads the string with zeros on the left to reach the specified width."
      ],
      "metadata": {
        "id": "UWRvA43ekLcy"
      }
    },
    {
      "cell_type": "code",
      "source": [
        "s = \"hello\"\n",
        "print(s.center(11, \"*\"))  # Output: ***hello***"
      ],
      "metadata": {
        "colab": {
          "base_uri": "https://localhost:8080/"
        },
        "id": "DBpDK0BYkb7p",
        "outputId": "5e49ba22-b450-4445-e45d-14a394bb491d"
      },
      "execution_count": 21,
      "outputs": [
        {
          "output_type": "stream",
          "name": "stdout",
          "text": [
            "***hello***\n"
          ]
        }
      ]
    },
    {
      "cell_type": "markdown",
      "source": [
        "center(width[, fillchar]): Centers the string, padding with the specified character (default: space)."
      ],
      "metadata": {
        "id": "ZBeTryITkklV"
      }
    },
    {
      "cell_type": "code",
      "source": [
        "s = \"hello\"\n",
        "print(s.ljust(10, \"*\"))  # Output: hello*****"
      ],
      "metadata": {
        "colab": {
          "base_uri": "https://localhost:8080/"
        },
        "id": "BCZNEGnFko2I",
        "outputId": "beba8e37-bcab-4372-f5f1-87ad4318a990"
      },
      "execution_count": 22,
      "outputs": [
        {
          "output_type": "stream",
          "name": "stdout",
          "text": [
            "hello*****\n"
          ]
        }
      ]
    },
    {
      "cell_type": "markdown",
      "source": [
        "ljust(width[, fillchar]): Left-justifies the string, padding with the specified character (default: space)."
      ],
      "metadata": {
        "id": "Ju9TuUGSks41"
      }
    },
    {
      "cell_type": "code",
      "source": [
        "s = \"hello\"\n",
        "print(s.rjust(10, \"*\"))  # Output: *****hello"
      ],
      "metadata": {
        "colab": {
          "base_uri": "https://localhost:8080/"
        },
        "id": "uIYTETDckwwS",
        "outputId": "be859c1d-2b29-4976-fe21-79f17995eae0"
      },
      "execution_count": 23,
      "outputs": [
        {
          "output_type": "stream",
          "name": "stdout",
          "text": [
            "*****hello\n"
          ]
        }
      ]
    },
    {
      "cell_type": "markdown",
      "source": [
        "rjust(width[, fillchar]): Right-justifies the string, padding with the specified character (default: space)."
      ],
      "metadata": {
        "id": "8DTqIQyik0Eq"
      }
    },
    {
      "cell_type": "code",
      "source": [
        "s = \"hello world\"\n",
        "print(s.split())  # Output: ['hello', 'world']"
      ],
      "metadata": {
        "colab": {
          "base_uri": "https://localhost:8080/"
        },
        "id": "M8pldR7-k3gk",
        "outputId": "37ceef4e-1781-4d8b-ff5e-aa3dea953cde"
      },
      "execution_count": 24,
      "outputs": [
        {
          "output_type": "stream",
          "name": "stdout",
          "text": [
            "['hello', 'world']\n"
          ]
        }
      ]
    },
    {
      "cell_type": "markdown",
      "source": [
        "split(sep=None, maxsplit=-1): Splits the string into a list based on a separator (default: whitespace)."
      ],
      "metadata": {
        "id": "G-Ylr7gclBs3"
      }
    },
    {
      "cell_type": "code",
      "source": [
        "s = \"hello world python\"\n",
        "print(s.rsplit(\" \", 1))  # Output: ['hello world', 'python']"
      ],
      "metadata": {
        "colab": {
          "base_uri": "https://localhost:8080/"
        },
        "id": "nA3DwHXTlF9d",
        "outputId": "a73536a5-760b-458b-b777-875410e4a216"
      },
      "execution_count": 25,
      "outputs": [
        {
          "output_type": "stream",
          "name": "stdout",
          "text": [
            "['hello world', 'python']\n"
          ]
        }
      ]
    },
    {
      "cell_type": "markdown",
      "source": [
        "rsplit(sep=None, maxsplit=-1): Splits the string from the right based on a separator."
      ],
      "metadata": {
        "id": "dtweuy5XlNfp"
      }
    },
    {
      "cell_type": "code",
      "source": [
        "s = \"hello\\nworld\"\n",
        "print(s.splitlines())  # Output: ['hello', 'world']"
      ],
      "metadata": {
        "colab": {
          "base_uri": "https://localhost:8080/"
        },
        "id": "Fvgnc4dKlUj7",
        "outputId": "affdc6a0-70f8-45bb-9325-2d81665696bb"
      },
      "execution_count": 26,
      "outputs": [
        {
          "output_type": "stream",
          "name": "stdout",
          "text": [
            "['hello', 'world']\n"
          ]
        }
      ]
    },
    {
      "cell_type": "markdown",
      "source": [
        "splitlines([keepends]): Splits the string at line breaks (\\n, \\r, \\r\\n)."
      ],
      "metadata": {
        "id": "OYOmaroklZYu"
      }
    },
    {
      "cell_type": "code",
      "source": [
        "s = \"hello world\"\n",
        "print(s.partition(\" \"))  # Output: ('hello', ' ', 'world')"
      ],
      "metadata": {
        "colab": {
          "base_uri": "https://localhost:8080/"
        },
        "id": "AJV_P932ldFh",
        "outputId": "e3a5b87d-e1fc-4a46-876f-e2d45d59e4db"
      },
      "execution_count": 27,
      "outputs": [
        {
          "output_type": "stream",
          "name": "stdout",
          "text": [
            "('hello', ' ', 'world')\n"
          ]
        }
      ]
    },
    {
      "cell_type": "markdown",
      "source": [
        "partition(sep): Splits the string at the first occurrence of the separator, returning a tuple of three parts."
      ],
      "metadata": {
        "id": "SShUSKpAll3L"
      }
    },
    {
      "cell_type": "code",
      "source": [
        "s = \"hello world python\"\n",
        "print(s.rpartition(\" \"))  # Output: ('hello world', ' ', 'python')"
      ],
      "metadata": {
        "colab": {
          "base_uri": "https://localhost:8080/"
        },
        "id": "ewWNIYuBlnK6",
        "outputId": "29f497f8-1e4b-473b-a99a-8160c843cd62"
      },
      "execution_count": 28,
      "outputs": [
        {
          "output_type": "stream",
          "name": "stdout",
          "text": [
            "('hello world', ' ', 'python')\n"
          ]
        }
      ]
    },
    {
      "cell_type": "markdown",
      "source": [
        "rpartition(sep): Splits the string at the last occurrence of the separator, returning a tuple."
      ],
      "metadata": {
        "id": "CZVK8jhElx-N"
      }
    },
    {
      "cell_type": "code",
      "source": [
        "s = \", \"\n",
        "print(s.join([\"hello\", \"world\"]))  # Output: hello, world"
      ],
      "metadata": {
        "colab": {
          "base_uri": "https://localhost:8080/"
        },
        "id": "blnWYTQilzBC",
        "outputId": "3552ea5a-169b-470e-e941-209e0b139d24"
      },
      "execution_count": 29,
      "outputs": [
        {
          "output_type": "stream",
          "name": "stdout",
          "text": [
            "hello, world\n"
          ]
        }
      ]
    },
    {
      "cell_type": "markdown",
      "source": [
        "join(iterable): Joins elements of an iterable into a string, using the string as a separator."
      ],
      "metadata": {
        "id": "0TiUBoAWl8H_"
      }
    },
    {
      "cell_type": "code",
      "source": [
        "s = \"hello123\"\n",
        "print(s.isalnum())  # Output: True"
      ],
      "metadata": {
        "id": "bXtV2OcXl-MS"
      },
      "execution_count": null,
      "outputs": []
    },
    {
      "cell_type": "markdown",
      "source": [
        "isalnum(): Checks if all characters are alphanumeric (letters or digits)."
      ],
      "metadata": {
        "id": "yr5qOLmGmDjl"
      }
    },
    {
      "cell_type": "code",
      "source": [
        "s = \"hello\"\n",
        "print(s.isalpha())  # Output: True"
      ],
      "metadata": {
        "colab": {
          "base_uri": "https://localhost:8080/"
        },
        "id": "hbCUn23BmErF",
        "outputId": "ba2d74b4-b2db-4f03-b8aa-46f01a314043"
      },
      "execution_count": 30,
      "outputs": [
        {
          "output_type": "stream",
          "name": "stdout",
          "text": [
            "True\n"
          ]
        }
      ]
    },
    {
      "cell_type": "markdown",
      "source": [
        "isalpha(): Checks if all characters are alphabetic."
      ],
      "metadata": {
        "id": "4m67hLKwmKPn"
      }
    },
    {
      "cell_type": "code",
      "source": [
        "s = \"123\"\n",
        "print(s.isdigit())  # Output: True"
      ],
      "metadata": {
        "colab": {
          "base_uri": "https://localhost:8080/"
        },
        "id": "woMxFPNzmOKM",
        "outputId": "95e4af2b-9308-4bdc-8aa9-d5fed28a6929"
      },
      "execution_count": 31,
      "outputs": [
        {
          "output_type": "stream",
          "name": "stdout",
          "text": [
            "True\n"
          ]
        }
      ]
    },
    {
      "cell_type": "markdown",
      "source": [
        "isdigit(): Checks if all characters are digits."
      ],
      "metadata": {
        "id": "inUuvXcrmVMz"
      }
    },
    {
      "cell_type": "code",
      "source": [
        "s = \"123\"\n",
        "print(s.isdecimal())  # Output: True"
      ],
      "metadata": {
        "colab": {
          "base_uri": "https://localhost:8080/"
        },
        "id": "gbqGKX7DmhLM",
        "outputId": "39668400-93df-4ce0-ea6d-ca5f2df93a34"
      },
      "execution_count": 32,
      "outputs": [
        {
          "output_type": "stream",
          "name": "stdout",
          "text": [
            "True\n"
          ]
        }
      ]
    },
    {
      "cell_type": "markdown",
      "source": [
        "isdecimal(): Checks if all characters are decimal digits (0-9)."
      ],
      "metadata": {
        "id": "BrmMbQiHmnEm"
      }
    },
    {
      "cell_type": "code",
      "source": [
        "s = \"123\"\n",
        "print(s.isnumeric())  # Output: True"
      ],
      "metadata": {
        "colab": {
          "base_uri": "https://localhost:8080/"
        },
        "id": "KnHHfpHhmn0M",
        "outputId": "dc2bc32d-2a33-4e55-cc32-b2c2a47c388b"
      },
      "execution_count": 33,
      "outputs": [
        {
          "output_type": "stream",
          "name": "stdout",
          "text": [
            "True\n"
          ]
        }
      ]
    },
    {
      "cell_type": "markdown",
      "source": [
        "isnumeric(): Checks if all characters are numeric (includes Unicode numeric characters)."
      ],
      "metadata": {
        "id": "MyR0n-z5mrcl"
      }
    },
    {
      "cell_type": "code",
      "source": [
        "s = \"my_variable\"\n",
        "print(s.isidentifier())  # Output: True"
      ],
      "metadata": {
        "colab": {
          "base_uri": "https://localhost:8080/"
        },
        "id": "Fz3iwVtEmu2C",
        "outputId": "a4ddadbc-bfc8-466a-a7ac-06837d89024f"
      },
      "execution_count": 34,
      "outputs": [
        {
          "output_type": "stream",
          "name": "stdout",
          "text": [
            "True\n"
          ]
        }
      ]
    },
    {
      "cell_type": "markdown",
      "source": [
        "isidentifier(): Checks if the string is a valid Python identifier."
      ],
      "metadata": {
        "id": "jJTVNVWHm0QY"
      }
    },
    {
      "cell_type": "code",
      "source": [
        "s = \"hello\"\n",
        "print(s.islower())  # Output: True"
      ],
      "metadata": {
        "colab": {
          "base_uri": "https://localhost:8080/"
        },
        "id": "L3iQ4fGZm3dT",
        "outputId": "f84d9eec-f11a-4b7b-a3ce-adb88e6aa71a"
      },
      "execution_count": 35,
      "outputs": [
        {
          "output_type": "stream",
          "name": "stdout",
          "text": [
            "True\n"
          ]
        }
      ]
    },
    {
      "cell_type": "markdown",
      "source": [
        "islower(): Checks if all cased characters are lowercase."
      ],
      "metadata": {
        "id": "VgS-6tD2m59Q"
      }
    },
    {
      "cell_type": "code",
      "source": [
        "s = \"HELLO\"\n",
        "print(s.isupper())  # Output: True"
      ],
      "metadata": {
        "colab": {
          "base_uri": "https://localhost:8080/"
        },
        "id": "4S1sNuVFm8zX",
        "outputId": "ff59bcf4-48f9-4c51-cb0b-550747ff8153"
      },
      "execution_count": 36,
      "outputs": [
        {
          "output_type": "stream",
          "name": "stdout",
          "text": [
            "True\n"
          ]
        }
      ]
    },
    {
      "cell_type": "markdown",
      "source": [
        "isupper(): Checks if all cased characters are uppercase."
      ],
      "metadata": {
        "id": "d83hAjNmm_UG"
      }
    },
    {
      "cell_type": "code",
      "source": [
        "s = \"Hello World\"\n",
        "print(s.istitle())  # Output: True"
      ],
      "metadata": {
        "colab": {
          "base_uri": "https://localhost:8080/"
        },
        "id": "mTWhj2FtnHRe",
        "outputId": "bb4f4535-70a5-4630-97ad-28a89a738b6a"
      },
      "execution_count": 37,
      "outputs": [
        {
          "output_type": "stream",
          "name": "stdout",
          "text": [
            "True\n"
          ]
        }
      ]
    },
    {
      "cell_type": "markdown",
      "source": [
        "istitle(): Checks if the string is title-cased (each word starts with an uppercase letter)."
      ],
      "metadata": {
        "id": "XzKZaLOGnKpV"
      }
    },
    {
      "cell_type": "code",
      "source": [
        "s = \"   \"\n",
        "print(s.isspace())  # Output: True"
      ],
      "metadata": {
        "colab": {
          "base_uri": "https://localhost:8080/"
        },
        "id": "1Tr59xKlnN6m",
        "outputId": "942177b8-1bc2-4259-ce43-75b03f3e88b6"
      },
      "execution_count": 38,
      "outputs": [
        {
          "output_type": "stream",
          "name": "stdout",
          "text": [
            "True\n"
          ]
        }
      ]
    },
    {
      "cell_type": "markdown",
      "source": [
        "isspace(): Checks if all characters are whitespace."
      ],
      "metadata": {
        "id": "ACLDeY3wnQvj"
      }
    },
    {
      "cell_type": "code",
      "source": [
        "s = \"hello\"\n",
        "print(s.isprintable())  # Output: True"
      ],
      "metadata": {
        "colab": {
          "base_uri": "https://localhost:8080/"
        },
        "id": "l62gKr0Une8F",
        "outputId": "3f864c0e-1775-4ebc-9923-c1a3ca2fc29a"
      },
      "execution_count": 39,
      "outputs": [
        {
          "output_type": "stream",
          "name": "stdout",
          "text": [
            "True\n"
          ]
        }
      ]
    },
    {
      "cell_type": "markdown",
      "source": [
        "isprintable(): Checks if all characters are printable (excludes control characters)."
      ],
      "metadata": {
        "id": "ZYueTl2jniBC"
      }
    },
    {
      "cell_type": "code",
      "source": [
        "s = \"hello\"\n",
        "print(s.encode(\"utf-8\"))  # Output: b'hello'"
      ],
      "metadata": {
        "colab": {
          "base_uri": "https://localhost:8080/"
        },
        "id": "SL8rVMdxnlbE",
        "outputId": "6c38fe85-c4fd-4f7e-e5fc-df87156cb9f1"
      },
      "execution_count": 40,
      "outputs": [
        {
          "output_type": "stream",
          "name": "stdout",
          "text": [
            "b'hello'\n"
          ]
        }
      ]
    },
    {
      "cell_type": "markdown",
      "source": [
        "encode(encoding='utf-8', errors='strict'): Encodes the string into bytes using the specified encoding."
      ],
      "metadata": {
        "id": "mlDiMiWenrdS"
      }
    },
    {
      "cell_type": "code",
      "source": [
        "s = \"Hello, {}!\"\n",
        "print(s.format(\"world\"))  # Output: Hello, world!"
      ],
      "metadata": {
        "colab": {
          "base_uri": "https://localhost:8080/"
        },
        "id": "n9YNeCyYnuQR",
        "outputId": "4575f425-4737-410e-a7dc-7b9a6424dda8"
      },
      "execution_count": 41,
      "outputs": [
        {
          "output_type": "stream",
          "name": "stdout",
          "text": [
            "Hello, world!\n"
          ]
        }
      ]
    },
    {
      "cell_type": "markdown",
      "source": [
        "format(*args, **kwargs): Formats the string using placeholders."
      ],
      "metadata": {
        "id": "UWvGvzRenwuU"
      }
    },
    {
      "cell_type": "code",
      "source": [
        "s = \"Hello, {name}!\"\n",
        "print(s.format_map({\"name\": \"world\"}))  # Output: Hello, world!"
      ],
      "metadata": {
        "colab": {
          "base_uri": "https://localhost:8080/"
        },
        "id": "3oatlRhLn3A-",
        "outputId": "5a08700a-5e96-4230-bcce-a721d6b23669"
      },
      "execution_count": 42,
      "outputs": [
        {
          "output_type": "stream",
          "name": "stdout",
          "text": [
            "Hello, world!\n"
          ]
        }
      ]
    },
    {
      "cell_type": "markdown",
      "source": [
        "format_map(mapping): Formats the string using a dictionary-like mapping."
      ],
      "metadata": {
        "id": "ljDJsei5n6F9"
      }
    },
    {
      "cell_type": "code",
      "source": [
        "s = \"hello\"\n",
        "trans = str.maketrans(\"h\", \"j\")\n",
        "print(s.translate(trans))  # Output: jello"
      ],
      "metadata": {
        "colab": {
          "base_uri": "https://localhost:8080/"
        },
        "id": "vKerbXXmn8oo",
        "outputId": "844d5663-fa5c-4400-b964-f47c2af60431"
      },
      "execution_count": 43,
      "outputs": [
        {
          "output_type": "stream",
          "name": "stdout",
          "text": [
            "jello\n"
          ]
        }
      ]
    },
    {
      "cell_type": "markdown",
      "source": [
        "maketrans(x[, y[, z]]): Creates a translation table for translate()."
      ],
      "metadata": {
        "id": "vARVRC50n_j-"
      }
    },
    {
      "cell_type": "code",
      "source": [
        "s = \"hello\"\n",
        "trans = str.maketrans(\"h\", \"j\")\n",
        "print(s.translate(trans))  # Output: jello"
      ],
      "metadata": {
        "colab": {
          "base_uri": "https://localhost:8080/"
        },
        "id": "cntTjgBDoENx",
        "outputId": "5d2a369d-df02-46c2-b0a5-6a671ed68a44"
      },
      "execution_count": 44,
      "outputs": [
        {
          "output_type": "stream",
          "name": "stdout",
          "text": [
            "jello\n"
          ]
        }
      ]
    },
    {
      "cell_type": "markdown",
      "source": [
        "translate(table): Replaces characters based on a translation table."
      ],
      "metadata": {
        "id": "HOr7Y3wAoIAc"
      }
    },
    {
      "cell_type": "code",
      "source": [
        "s = \"  Hello World!  \"\n",
        "\n",
        "# Case Conversion\n",
        "print(s.capitalize())        # Hello world!\n",
        "print(s.casefold())         # hello world!\n",
        "print(s.lower())            # hello world!\n",
        "print(s.upper())            # HELLO WORLD!\n",
        "print(s.title())            # Hello World!\n",
        "print(s.swapcase())         #   hELLO wORLD!\n",
        "\n",
        "# Searching and Counting\n",
        "print(s.count(\"l\"))         # 3\n",
        "print(s.find(\"World\"))      # 8\n",
        "print(s.rfind(\"l\"))         # 11\n",
        "print(s.index(\"World\"))     # 8\n",
        "print(s.rindex(\"l\"))        # 11\n",
        "print(s.startswith(\"  H\"))  # True\n",
        "print(s.endswith(\"!  \"))    # True\n",
        "\n",
        "# Modification\n",
        "print(s.replace(\"World\", \"Python\"))  #   Hello Python!\n",
        "print(s.strip())            # Hello World!\n",
        "print(s.lstrip())           # Hello World!\n",
        "print(s.rstrip())           #   Hello World!\n",
        "print(s.expandtabs())       #   Hello World!\n",
        "print(s.zfill(20))          # 000000  Hello World!\n",
        "print(s.center(20, \"*\"))    # **  Hello World!  ***\n",
        "print(s.ljust(20, \"*\"))     #   Hello World!  *****\n",
        "print(s.rjust(20, \"*\"))     # *****  Hello World!\n",
        "\n",
        "# Splitting and Joining\n",
        "print(s.split())            # ['Hello', 'World!']\n",
        "print(s.rsplit(\" \", 1))     # ['  Hello', 'World!  ']\n",
        "print(s.splitlines())       # ['  Hello World!  ']\n",
        "print(s.partition(\" \"))     # ('', ' ', ' Hello World!  ')\n",
        "print(s.rpartition(\" \"))    # ('  Hello World!', ' ', '')\n",
        "print(\"-\".join([\"a\", \"b\"])) # a-b\n",
        "\n",
        "# Testing\n",
        "print(\"hello123\".isalnum()) # True\n",
        "print(\"hello\".isalpha())    # True\n",
        "print(\"123\".isdigit())      # True\n",
        "print(\"123\".isdecimal())    # True\n",
        "print(\"123\".isnumeric())    # True\n",
        "print(\"my_var\".isidentifier())  # True\n",
        "print(\"hello\".islower())    # True\n",
        "print(\"HELLO\".isupper())    # True\n",
        "print(\"Hello World\".istitle())  # True\n",
        "print(\"   \".isspace())      # True\n",
        "print(\"hello\".isprintable())# True\n",
        "\n",
        "# Encoding and Formatting\n",
        "print(s.encode())           # b'  Hello World!  '\n",
        "print(\"Hi, {}!\".format(\"Python\"))  # Hi, Python!\n",
        "print(\"Hi, {name}!\".format_map({\"name\": \"Python\"}))  # Hi, Python!\n",
        "trans = str.maketrans(\"H\", \"J\")\n",
        "print(s.translate(trans))   #   Jello World!"
      ],
      "metadata": {
        "colab": {
          "base_uri": "https://localhost:8080/"
        },
        "id": "UxPfgm-OoQGZ",
        "outputId": "c6b3ff69-7494-4d11-a302-059f9e0ded66"
      },
      "execution_count": 45,
      "outputs": [
        {
          "output_type": "stream",
          "name": "stdout",
          "text": [
            "  hello world!  \n",
            "  hello world!  \n",
            "  hello world!  \n",
            "  HELLO WORLD!  \n",
            "  Hello World!  \n",
            "  hELLO wORLD!  \n",
            "3\n",
            "8\n",
            "11\n",
            "8\n",
            "11\n",
            "True\n",
            "True\n",
            "  Hello Python!  \n",
            "Hello World!\n",
            "Hello World!  \n",
            "  Hello World!\n",
            "  Hello World!  \n",
            "0000  Hello World!  \n",
            "**  Hello World!  **\n",
            "  Hello World!  ****\n",
            "****  Hello World!  \n",
            "['Hello', 'World!']\n",
            "['  Hello World! ', '']\n",
            "['  Hello World!  ']\n",
            "('', ' ', ' Hello World!  ')\n",
            "('  Hello World! ', ' ', '')\n",
            "a-b\n",
            "True\n",
            "True\n",
            "True\n",
            "True\n",
            "True\n",
            "True\n",
            "True\n",
            "True\n",
            "True\n",
            "True\n",
            "True\n",
            "b'  Hello World!  '\n",
            "Hi, Python!\n",
            "Hi, Python!\n",
            "  Jello World!  \n"
          ]
        }
      ]
    }
  ]
}