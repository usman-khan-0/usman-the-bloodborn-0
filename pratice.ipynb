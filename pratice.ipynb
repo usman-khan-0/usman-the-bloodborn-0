{
  "nbformat": 4,
  "nbformat_minor": 0,
  "metadata": {
    "colab": {
      "provenance": [],
      "authorship_tag": "ABX9TyNm17JPXmLMTDvuyWdOWEs+",
      "include_colab_link": true
    },
    "kernelspec": {
      "name": "python3",
      "display_name": "Python 3"
    },
    "language_info": {
      "name": "python"
    }
  },
  "cells": [
    {
      "cell_type": "markdown",
      "metadata": {
        "id": "view-in-github",
        "colab_type": "text"
      },
      "source": [
        "<a href=\"https://colab.research.google.com/github/usman-the-bloodborn-0/usman-the-bloodborn-0/blob/main/pratice.ipynb\" target=\"_parent\"><img src=\"https://colab.research.google.com/assets/colab-badge.svg\" alt=\"Open In Colab\"/></a>"
      ]
    },
    {
      "cell_type": "code",
      "execution_count": 8,
      "metadata": {
        "colab": {
          "base_uri": "https://localhost:8080/"
        },
        "id": "fLz38R4U-SQW",
        "outputId": "06fd8bd7-dc9b-41a1-acb2-3abbdbf75428"
      },
      "outputs": [
        {
          "output_type": "stream",
          "name": "stdout",
          "text": [
            "It's True\n"
          ]
        }
      ],
      "source": [
        "a = \"Hello\"\n",
        "b = \"Hello this is Pakistan\"\n",
        "\n",
        "if a in b:\n",
        "  if \"H\" in a and b:\n",
        "    print(\"It's True\")\n",
        "else:\n",
        "  print(\"It's False\")"
      ]
    },
    {
      "cell_type": "code",
      "source": [
        "x: int = 10\n",
        "y: int = 20\n",
        "\n",
        "print(\"x == y = \", x == y)  # False\n",
        "print(\"x != y = \", x != y)  # True\n",
        "print(\"x > y  = \", x > y)   # False\n",
        "print(\"x < y  = \", x < y)   # True\n",
        "print(\"x >= y = \", x >= y)  # False\n",
        "print(\"x <= y = \", x <= y)  # True"
      ],
      "metadata": {
        "colab": {
          "base_uri": "https://localhost:8080/"
        },
        "id": "IOyImbXn-rpn",
        "outputId": "981c2a7a-242e-4d56-fc69-451696224544"
      },
      "execution_count": 9,
      "outputs": [
        {
          "output_type": "stream",
          "name": "stdout",
          "text": [
            "x == y =  False\n",
            "x != y =  True\n",
            "x > y  =  False\n",
            "x < y  =  True\n",
            "x >= y =  False\n",
            "x <= y =  True\n"
          ]
        }
      ]
    },
    {
      "cell_type": "code",
      "source": [
        "age = int(input(\"Enter your age: \"))\n",
        "is_student: bool = True\n",
        "\n",
        "# Check if age is greater than 18 AND is_student is True\n",
        "if age > 18 and is_student:\n",
        "    print(\"You are eligible for a student discount.\")\n",
        "\n",
        "# Check if age is less than 12 OR greater than 60\n",
        "if age < 12 or age > 60:\n",
        "    print(\"You qualify for a special discount.\")\n",
        "\n",
        "# Check if the person is NOT a student\n",
        "if not is_student:\n",
        "    print(\"You are not a student.\")"
      ],
      "metadata": {
        "id": "6wptCIPP_vZA",
        "outputId": "7851fae0-4fb7-457a-a002-72656994c8cc",
        "colab": {
          "base_uri": "https://localhost:8080/"
        }
      },
      "execution_count": 14,
      "outputs": [
        {
          "name": "stdout",
          "output_type": "stream",
          "text": [
            "Enter your age: 18\n"
          ]
        }
      ]
    },
    {
      "cell_type": "code",
      "source": [
        "# Get input from user\n",
        "age = int(input(\"Enter your age: \"))\n",
        "is_student_input = input(\"Are you a student? (yes/no): \")\n",
        "\n",
        "# Convert input to boolean\n",
        "is_student = is_student_input.strip().lower() == \"yes\"\n",
        "\n",
        "# Check if age is greater than 18 AND is_student is True\n",
        "if age > 18 and is_student:\n",
        "    print(\"You are eligible for a student discount.\")\n",
        "\n",
        "# Check if age is less than 12 OR greater than 60\n",
        "if age < 12 or age > 60:\n",
        "    print(\"You qualify for a special discount.\")\n",
        "\n",
        "# Check if the person is NOT a student\n",
        "if not is_student:\n",
        "    print(\"You are not a student.\")\n"
      ],
      "metadata": {
        "id": "sKK2NbqY_9Qh",
        "outputId": "d0774679-ac4e-433b-c9ae-3352fc8c8add",
        "colab": {
          "base_uri": "https://localhost:8080/"
        }
      },
      "execution_count": 11,
      "outputs": [
        {
          "name": "stdout",
          "output_type": "stream",
          "text": [
            "Enter your age: 17\n",
            "Are you a student? (yes/no): yes\n"
          ]
        }
      ]
    },
    {
      "cell_type": "code",
      "source": [
        "num: int = 10\n",
        "if num > 0:\n",
        "    print(\"The number is positive.\")\n",
        "\n",
        "num: int = -5\n",
        "if num > 0:\n",
        "    print(\"The number is positive.\")\n",
        "else:\n",
        "    print(\"The number is negatve.\")\n",
        "\n",
        "num: int = 0\n",
        "if num > 0: # Program execution step# 1 if condition = False\n",
        "    print(\"The number is positive.\")\n",
        "elif num < 0: # Program execution step# 2 if condition = False\n",
        "    print(\"The number is negative.\")\n",
        "else: # Program execution step# 3 python will execute the else block\n",
        "    print(\"The number is zero.\")\n",
        "\n",
        "num: int = 10\n",
        "#num: int = -10\n",
        "\n",
        "if num > 0: # check wather the number is positive or negative\n",
        "\n",
        "    if num % 2 == 0: # Modulus operator, remainder 0 = even_number,\n",
        "        print(\"The number is positive and even.\")\n",
        "    else: # remainder 1 = odd_number,\n",
        "        print(\"The number is positive and odd.\")\n",
        "\n",
        "else:\n",
        "    print(\"The number is negative.\")"
      ],
      "metadata": {
        "id": "Y9I80ub3AZhg",
        "outputId": "e12782af-27aa-4c95-aa9c-f42bc508f910",
        "colab": {
          "base_uri": "https://localhost:8080/"
        }
      },
      "execution_count": 15,
      "outputs": [
        {
          "output_type": "stream",
          "name": "stdout",
          "text": [
            "The number is positive.\n",
            "The number is negatve.\n",
            "The number is zero.\n",
            "The number is positive and even.\n"
          ]
        }
      ]
    },
    {
      "cell_type": "code",
      "source": [
        "operation: str = input(\"Enter the operation (+, -, *, /): \")\n",
        "num1: float = float(input(\"Enter the first number: \"))\n",
        "num2: float = float(input(\"Enter the second number: \"))\n",
        "\n",
        "if operation == '+':\n",
        "    result = num1 + num2\n",
        "elif operation == '-':\n",
        "    result = num1 - num2\n",
        "elif operation == '*':\n",
        "    result = num1 * num2\n",
        "elif operation == '/':\n",
        "    if num2 != 0:\n",
        "        result = num1 / num2\n",
        "    else:\n",
        "        result = \"Error: Division by zero.\"\n",
        "else:\n",
        "    result = \"Invalid operation.\"\n",
        "\n",
        "print(\"Result:\", result)"
      ],
      "metadata": {
        "id": "xv_U1kvgJOpH",
        "outputId": "9735badf-ebda-480e-a88c-69666af58408",
        "colab": {
          "base_uri": "https://localhost:8080/"
        }
      },
      "execution_count": 16,
      "outputs": [
        {
          "output_type": "stream",
          "name": "stdout",
          "text": [
            "Enter the operation (+, -, *, /): /\n",
            "Enter the first number: 563.576\n",
            "Enter the second number: 36565.75\n",
            "Result: 0.01541267442893965\n"
          ]
        }
      ]
    },
    {
      "cell_type": "code",
      "source": [
        "def calculator():\n",
        "  \"\"\"\n",
        "  A calculator function that takes user input for numbers and operations,\n",
        "  including modulus, floor division, and exponentiation.\n",
        "  \"\"\"\n",
        "  while True:\n",
        "    operation = input(\"Enter the operation (+, -, *, /, %, //, ** or 'q' to quit): \")\n",
        "    if operation.lower() == 'q':\n",
        "      break\n",
        "    if operation not in ('+', '-', '*', '/', '%', '//', '**'):\n",
        "      print(\"Invalid operation.\")\n",
        "      continue\n",
        "\n",
        "    try:\n",
        "      num1 = float(input(\"Enter the first number: \"))\n",
        "      num2 = float(input(\"Enter the second number: \"))\n",
        "    except ValueError:\n",
        "      print(\"Invalid input. Please enter numbers only.\")\n",
        "      continue\n",
        "\n",
        "    if operation == '+':\n",
        "      result = num1 + num2\n",
        "    elif operation == '-':\n",
        "      result = num1 - num2\n",
        "    elif operation == '*':\n",
        "      result = num1 * num2\n",
        "    elif operation == '/':\n",
        "      if num2 != 0:\n",
        "        result = num1 / num2\n",
        "      else:\n",
        "        result = \"Error: Division by zero.\"\n",
        "        print(result)\n",
        "        continue\n",
        "    elif operation == '%':\n",
        "      result = num1 % num2\n",
        "    elif operation == '//':\n",
        "      if num2 != 0:\n",
        "        result = num1 // num2\n",
        "      else:\n",
        "        result = \"Error: Division by zero.\"\n",
        "        print(result)\n",
        "        continue\n",
        "    elif operation == '**':\n",
        "      result = num1 ** num2\n",
        "\n",
        "    print(\"Result:\", result)\n",
        "\n",
        "calculator()"
      ],
      "metadata": {
        "id": "iddafOXQJjy_",
        "outputId": "aa75b05a-669c-4b0f-c2dd-22299d6bfc6e",
        "colab": {
          "base_uri": "https://localhost:8080/"
        }
      },
      "execution_count": 19,
      "outputs": [
        {
          "name": "stdout",
          "output_type": "stream",
          "text": [
            "Enter the operation (+, -, *, /, %, //, ** or 'q' to quit): /\n",
            "Enter the first number: t\n",
            "Invalid input. Please enter numbers only.\n",
            "Enter the operation (+, -, *, /, %, //, ** or 'q' to quit): q\n"
          ]
        }
      ]
    },
    {
      "cell_type": "code",
      "source": [
        "def grading_system(marks):\n",
        "  \"\"\"\n",
        "  This function takes marks as input and returns the corresponding grade.\n",
        "\n",
        "  Args:\n",
        "    marks: The marks obtained by the student.\n",
        "\n",
        "  Returns:\n",
        "    The grade corresponding to the marks.\n",
        "  \"\"\"\n",
        "  if marks >= 90:\n",
        "    grade = \"A+\"\n",
        "  elif marks >= 80:\n",
        "    grade = \"A\"\n",
        "  elif marks >= 70:\n",
        "    grade = \"B\"\n",
        "  elif marks >= 60:\n",
        "    grade = \"C\"\n",
        "  elif marks >= 50:\n",
        "    grade = \"D\"\n",
        "  else:\n",
        "    grade = \"F\"\n",
        "  return grade\n",
        "\n",
        "# Get marks as input from the user\n",
        "while True:\n",
        "  try:\n",
        "    marks = float(input(\"Enter the marks: \"))\n",
        "    if 0 <= marks <= 100:\n",
        "      break\n",
        "    else:\n",
        "      print(\"Marks must be between 0 and 100.\")\n",
        "  except ValueError:\n",
        "    print(\"Invalid input. Please enter a number.\")\n",
        "\n",
        "# Determine the grade\n",
        "grade = grading_system(marks)\n",
        "\n",
        "# Print the grade\n",
        "print(f\"The grade for {marks} marks is: {grade}\")"
      ],
      "metadata": {
        "id": "g500bma9KB9p",
        "outputId": "ed717463-5756-4e8c-b5f4-9fef6cdf7aaf",
        "colab": {
          "base_uri": "https://localhost:8080/"
        }
      },
      "execution_count": 21,
      "outputs": [
        {
          "output_type": "stream",
          "name": "stdout",
          "text": [
            "Enter the marks: 1\n",
            "The grade for 1.0 marks is: F\n"
          ]
        }
      ]
    },
    {
      "cell_type": "code",
      "source": [
        "def check_status(code):\n",
        "    match code:\n",
        "        case 200:\n",
        "            print(\"OK\")\n",
        "        case 400:\n",
        "            print(\"Bad Request\")\n",
        "        case 404:\n",
        "            print(\"Not Found\")\n",
        "        case _:\n",
        "            print(\"Unknown Status\")\n",
        "\n",
        "check_status(200)  # Output: OK\n",
        "check_status(404)  # Output: Not Found\n",
        "check_status(500)  # Output: Unknown Status"
      ],
      "metadata": {
        "id": "DTCeKqhxK-kp",
        "outputId": "98db24e3-75d0-49f7-9b47-e51e3e05a10f",
        "colab": {
          "base_uri": "https://localhost:8080/"
        }
      },
      "execution_count": 22,
      "outputs": [
        {
          "output_type": "stream",
          "name": "stdout",
          "text": [
            "OK\n",
            "Not Found\n",
            "Unknown Status\n"
          ]
        }
      ]
    },
    {
      "cell_type": "code",
      "source": [
        "# Iterate over a list\n",
        "fruits: list = [\"apple\", \"banana\", \"cherry\"]\n",
        "for fruit in fruits:\n",
        "    print(fruit)\n",
        "# Note: Membership Operators in Python in, not in\n",
        "\n",
        "# Iterate over a string\n",
        "word: str = \"Python\"\n",
        "for letter in word:\n",
        "    print(letter)\n",
        "\n",
        "numbers = [1, 2, 3, 4, 5]\n",
        "\n",
        "for num in numbers:\n",
        "    print(num)\n",
        "else:\n",
        "    print(\"Loop completed successfully!\")\n",
        "\n",
        "numbers = [1, 2, 3, 4, 5]\n",
        "\n",
        "for num in numbers:\n",
        "    print(num)\n",
        "    if num == 3:\n",
        "        print(\"Breaking the loop!\")\n",
        "        break\n",
        "else:\n",
        "    print(\"Loop completed successfully!\")  # This will NOT run\n",
        "\n",
        "numbers = [1, 2, 3, 4, 5]\n",
        "\n",
        "for num in numbers:\n",
        "    if num == 6:\n",
        "        print(\"Number found!\")\n",
        "        break\n",
        "else:\n",
        "    print(\"Number not found!\")  # Runs because 6 is not in the list\n",
        "\n",
        "# Print numbers from 0 to 4\n",
        "for i in range(5):\n",
        "    print(i)\n",
        "\n",
        "# Print even numbers from 2 to 10\n",
        "for i in range(2, 11, 2):\n",
        "    print(i)\n",
        "\n",
        "for _ in range(10): # Just to show that _ is a loop variable, but its throwaway variable\n",
        "    # Code to be executed 100,000 times\n",
        "    print(f\"Hello, World! Iteration { _ }\")"
      ],
      "metadata": {
        "id": "8rsKCqpSLjwl",
        "outputId": "7b6e1fc5-0190-4b66-8648-151b21f79c79",
        "colab": {
          "base_uri": "https://localhost:8080/"
        }
      },
      "execution_count": 23,
      "outputs": [
        {
          "output_type": "stream",
          "name": "stdout",
          "text": [
            "apple\n",
            "banana\n",
            "cherry\n",
            "P\n",
            "y\n",
            "t\n",
            "h\n",
            "o\n",
            "n\n",
            "1\n",
            "2\n",
            "3\n",
            "4\n",
            "5\n",
            "Loop completed successfully!\n",
            "1\n",
            "2\n",
            "3\n",
            "Breaking the loop!\n",
            "Number not found!\n",
            "0\n",
            "1\n",
            "2\n",
            "3\n",
            "4\n",
            "2\n",
            "4\n",
            "6\n",
            "8\n",
            "10\n",
            "Hello, World! Iteration 0\n",
            "Hello, World! Iteration 1\n",
            "Hello, World! Iteration 2\n",
            "Hello, World! Iteration 3\n",
            "Hello, World! Iteration 4\n",
            "Hello, World! Iteration 5\n",
            "Hello, World! Iteration 6\n",
            "Hello, World! Iteration 7\n",
            "Hello, World! Iteration 8\n",
            "Hello, World! Iteration 9\n"
          ]
        }
      ]
    },
    {
      "cell_type": "code",
      "source": [
        "# Print numbers from 1 to 5\n",
        "count: int = 1\n",
        "while count <= 5:\n",
        "    print(count)\n",
        "    count += 1\n",
        "\n",
        "# Break example\n",
        "for i in range(10):\n",
        "    if i == 5:\n",
        "        break\n",
        "    print(i)  # Prints 0, 1, 2, 3, 4\n",
        "\n",
        "# Continue example\n",
        "for i in range(5):\n",
        "    if i == 3:\n",
        "        continue\n",
        "    print(i)  # Prints 0, 1, 2, 4\n",
        "\n",
        "# Multiplication table\n",
        "for outer in range(1, 6): # outer loop\n",
        "    print(f\"Multiplication table for {outer}:\")\n",
        "    for inner in range(1, 6): # nested inner loop\n",
        "        print(f\"{outer} * {inner} = {outer * inner}\")\n",
        "    print()  # Add a blank line after each row"
      ],
      "metadata": {
        "id": "Bo2RQxl8PTbc",
        "outputId": "0274a921-c0d3-42e9-937a-7c0fa9d77444",
        "colab": {
          "base_uri": "https://localhost:8080/"
        }
      },
      "execution_count": 24,
      "outputs": [
        {
          "output_type": "stream",
          "name": "stdout",
          "text": [
            "1\n",
            "2\n",
            "3\n",
            "4\n",
            "5\n",
            "0\n",
            "1\n",
            "2\n",
            "3\n",
            "4\n",
            "0\n",
            "1\n",
            "2\n",
            "4\n",
            "Multiplication table for 1:\n",
            "1 * 1 = 1\n",
            "1 * 2 = 2\n",
            "1 * 3 = 3\n",
            "1 * 4 = 4\n",
            "1 * 5 = 5\n",
            "\n",
            "Multiplication table for 2:\n",
            "2 * 1 = 2\n",
            "2 * 2 = 4\n",
            "2 * 3 = 6\n",
            "2 * 4 = 8\n",
            "2 * 5 = 10\n",
            "\n",
            "Multiplication table for 3:\n",
            "3 * 1 = 3\n",
            "3 * 2 = 6\n",
            "3 * 3 = 9\n",
            "3 * 4 = 12\n",
            "3 * 5 = 15\n",
            "\n",
            "Multiplication table for 4:\n",
            "4 * 1 = 4\n",
            "4 * 2 = 8\n",
            "4 * 3 = 12\n",
            "4 * 4 = 16\n",
            "4 * 5 = 20\n",
            "\n",
            "Multiplication table for 5:\n",
            "5 * 1 = 5\n",
            "5 * 2 = 10\n",
            "5 * 3 = 15\n",
            "5 * 4 = 20\n",
            "5 * 5 = 25\n",
            "\n"
          ]
        }
      ]
    },
    {
      "cell_type": "code",
      "source": [
        "# Sum numbers from 1 to 100\n",
        "total: int = 0\n",
        "for i in range(1, 10001):\n",
        "    total += i\n",
        "print(\"Sum of numbers from 1 to 100:\", total)\n",
        "\n",
        "# Find factors of a number\n",
        "num: int = 24\n",
        "factors = []\n",
        "for i in range(1, num + 1):\n",
        "    if num % i == 0:\n",
        "        factors.append(i)\n",
        "print(f\"Factors of {num}: {factors}\")"
      ],
      "metadata": {
        "id": "4qY1LN2iUKx1",
        "outputId": "5b1912e2-a8fe-4be4-f83f-e07a461392bd",
        "colab": {
          "base_uri": "https://localhost:8080/"
        }
      },
      "execution_count": 4,
      "outputs": [
        {
          "output_type": "stream",
          "name": "stdout",
          "text": [
            "Sum of numbers from 1 to 100: 50005000\n",
            "Factors of 24: [1, 2, 3, 4, 6, 8, 12, 24]\n"
          ]
        }
      ]
    }
  ]
}