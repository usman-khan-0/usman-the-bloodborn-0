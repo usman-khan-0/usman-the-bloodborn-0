{
  "nbformat": 4,
  "nbformat_minor": 0,
  "metadata": {
    "colab": {
      "provenance": [],
      "authorship_tag": "ABX9TyNQiTbxHlAL/V3v/Se2wPML",
      "include_colab_link": true
    },
    "kernelspec": {
      "name": "python3",
      "display_name": "Python 3"
    },
    "language_info": {
      "name": "python"
    }
  },
  "cells": [
    {
      "cell_type": "markdown",
      "metadata": {
        "id": "view-in-github",
        "colab_type": "text"
      },
      "source": [
        "<a href=\"https://colab.research.google.com/github/usman-khan-0/usman-the-bloodborn-0/blob/main/Practice_Work.ipynb\" target=\"_parent\"><img src=\"https://colab.research.google.com/assets/colab-badge.svg\" alt=\"Open In Colab\"/></a>"
      ]
    },
    {
      "cell_type": "code",
      "execution_count": null,
      "metadata": {
        "colab": {
          "base_uri": "https://localhost:8080/"
        },
        "id": "YygjuXOC0ECr",
        "outputId": "48e8655b-cf1f-42a6-968c-9ecce9417d4f"
      },
      "outputs": [
        {
          "output_type": "stream",
          "name": "stdout",
          "text": [
            "<class 'int'>  num_int =  42\n",
            "<class 'float'>  num_float =  3.14\n",
            "<class 'complex'>  num_complex =  (2+3j)\n"
          ]
        }
      ],
      "source": [
        "num_int: int = 42\n",
        "print(type(num_int),\" num_int = \",num_int,)  #\n",
        "\n",
        "num_float: float = 3.14\n",
        "#num_float: float = .14\n",
        "print(type(num_float), \" num_float = \", num_float)  #\n",
        "\n",
        "num_complex: complex = 2 + 3j\n",
        "print(type(num_complex), \" num_complex = \", num_complex)  #"
      ]
    },
    {
      "cell_type": "code",
      "source": [
        "num: complex = 4j + 5\n",
        "print(\"Real number = \",num.real)\n",
        "print(\"Imaginary number = \", num.imag)"
      ],
      "metadata": {
        "colab": {
          "base_uri": "https://localhost:8080/"
        },
        "id": "-X_G6mfr0lw0",
        "outputId": "6e520dfd-b310-478e-e194-c2e5f2c5bcde"
      },
      "execution_count": null,
      "outputs": [
        {
          "output_type": "stream",
          "name": "stdout",
          "text": [
            "Real number =  5.0\n",
            "Imaginary number =  4.0\n"
          ]
        }
      ]
    },
    {
      "cell_type": "code",
      "source": [
        "is_python: bool = True\n",
        "print(type(is_python), \"is python = \", is_python)\n",
        "\n",
        "is_shadowed: bool = False\n",
        "print(type(is_shadowed), \"is shadowed = \", is_shadowed)"
      ],
      "metadata": {
        "colab": {
          "base_uri": "https://localhost:8080/"
        },
        "id": "pNAW7Ogn1E5h",
        "outputId": "011282fd-6a79-45d7-d2db-3abf72645fdc"
      },
      "execution_count": null,
      "outputs": [
        {
          "output_type": "stream",
          "name": "stdout",
          "text": [
            "<class 'bool'> is python =  True\n",
            "<class 'bool'> is shadowed =  False\n"
          ]
        }
      ]
    },
    {
      "cell_type": "code",
      "source": [
        "#String(Immutable)\n",
        "text_double: str  = \"Hello, Python!\" # Strings with Double Quotes (\")\n",
        "text_single: str  = 'Hello, Python!' # Strings with Single Quotes (')\n",
        "text_multi: str   = '''Hello, Python!''' # Multi-Line Strings with Triple Quotes (''' or \"\"\")\n",
        "text_multi_1: str = \"\"\"Hello, Python!\"\"\" # Multi-Line Strings with Triple Quotes (''' or \"\"\")\n",
        "print(type(text_double), \" text_double   = \", text_double)    #\n",
        "print(type(text_single), \" text_single   = \", text_single)    #\n",
        "print(type(text_multi), \" text_multi    = \", text_multi)      #\n",
        "print(type(text_multi_1), \" text_multi_1  = \", text_multi_1)  #\n",
        "\n",
        "#List(Mutable)\n",
        "my_list_1: int = [1, 2, 3, \"Java\", 3.14, True] #Type hinting is not enforced in python, but you should mention appropriate data type in this case 'list'\n",
        "my_list: list = [1, 2, 3, \"Python\", 3.14, 3+2j]\n",
        "print(type(my_list_1), \" my_list_1 = \", my_list_1)  #\n",
        "print(type(my_list), \" my_list   =  \" + str(my_list)) # we will look into type casting in classes ahead\n",
        "\n",
        "#Tuple(Immutable)\n",
        "my_tuple: tuple = (1, 2, 3, \"AI\", 2.71, False, .3 , 3+2j )\n",
        "print(type(my_tuple), \" my_tuple = \", my_tuple )  #\n",
        "\n",
        "#Range(Immutable)\n",
        "num_range: range = range(0, 1000, 150) # range(start, stop, step)\n",
        "print(type(num_range), \" num_range = \", num_range.stop)  #\n",
        "for num_range_item in num_range:\n",
        "    print(num_range_item)\n",
        "\n",
        "#Set (Mutable)\n",
        "my_set: set = {1, 2, 33, 4, 4, 5}\n",
        "print(type(my_set), \"my_set = \", my_set)  #\n",
        "\n",
        "#Frozen Set(Immutable)\n",
        "frozen_set = frozenset([11, 2, 3, 4, 4, 5])\n",
        "#frozen_set = frozenset(my_set)\n",
        "print(type(frozen_set), \" frozen_set = \", frozen_set)  #\n",
        "\n",
        "#Mapping(Mutable)\n",
        "my_dict: dict = {\"name\": \"Alice\", \"age\": 25, \"language\": \"Python\"}\n",
        "print(type(my_dict),\" my_dict = \", my_dict )  #"
      ],
      "metadata": {
        "colab": {
          "base_uri": "https://localhost:8080/"
        },
        "id": "79LxwBLF3xBG",
        "outputId": "c7a8ba6a-640e-4fee-dae2-fefe6317f51d"
      },
      "execution_count": null,
      "outputs": [
        {
          "output_type": "stream",
          "name": "stdout",
          "text": [
            "<class 'str'>  text_double   =  Hello, Python!\n",
            "<class 'str'>  text_single   =  Hello, Python!\n",
            "<class 'str'>  text_multi    =  Hello, Python!\n",
            "<class 'str'>  text_multi_1  =  Hello, Python!\n",
            "<class 'list'>  my_list_1 =  [1, 2, 3, 'Java', 3.14, True]\n",
            "<class 'list'>  my_list   =  [1, 2, 3, 'Python', 3.14, (3+2j)]\n",
            "<class 'tuple'>  my_tuple =  (1, 2, 3, 'AI', 2.71, False, 0.3, (3+2j))\n",
            "<class 'range'>  num_range =  1000\n",
            "0\n",
            "150\n",
            "300\n",
            "450\n",
            "600\n",
            "750\n",
            "900\n",
            "<class 'set'> my_set =  {1, 2, 33, 4, 5}\n",
            "<class 'frozenset'>  frozen_set =  frozenset({2, 3, 4, 5, 11})\n",
            "<class 'dict'>  my_dict =  {'name': 'Alice', 'age': 25, 'language': 'Python'}\n"
          ]
        }
      ]
    },
    {
      "cell_type": "code",
      "source": [
        "#Binary\n",
        "#1. Bytes(Immutable)\n",
        "byte_data: bytes = b\"Hello\"\n",
        "print(type(byte_data), \" byte_data = \", byte_data)  #\n",
        "\n",
        "#2. Bytearray(Mutable)\n",
        "byte_array: bytearray = bytearray([65, 66, 67, 69]) #65=A, 66=B ....decimal number system\n",
        "print(type(byte_array), \" byte_array = \", byte_array)  #\n",
        "print(byte_array[0])\n",
        "print(chr(byte_array[0]))\n",
        "print(\"Empty bytearray(): \",bytearray())\n",
        "\n",
        "byte_array: bytearray = bytearray([65, 66, 67, 69])\n",
        "# Converting the entire bytearray to a string using decode()\n",
        "print(\"Decoded string: \", byte_array.decode('utf-8'))  # Output: ABCE\n",
        "\n",
        "# Creating a bytearray object\n",
        "ba: bytearray = bytearray(b\"hello\")\n",
        "print(\"Before: ba = \", ba)\n",
        "# Modifying the bytearray\n",
        "ba[0] = 72  # ASCII value of 'H'\n",
        "print(\"After: ba = \",ba)  # Output: bytearray(b'Hello')\n",
        "\n",
        "#3. Memoryview(Can be Mutable or Immutable)\n",
        "mem_view: memoryview(b\"Operation Badar\")\n",
        "print(type(mem_view), \" mem_view = \", mem_view)  #\n",
        "print(mem_view[0:5])\n",
        "print(bytes(mem_view[6:11]) ) #cast it to byte otherwise it will show memory address"
      ],
      "metadata": {
        "colab": {
          "base_uri": "https://localhost:8080/"
        },
        "id": "GIRrDqOw_diE",
        "outputId": "f811ce95-94c1-4075-8c73-e0c2aad57962"
      },
      "execution_count": null,
      "outputs": [
        {
          "output_type": "stream",
          "name": "stdout",
          "text": [
            "<class 'bytes'>  byte_data =  b'Hello'\n",
            "<class 'bytearray'>  byte_array =  bytearray(b'ABCE')\n",
            "65\n",
            "A\n",
            "Empty bytearray():  bytearray(b'')\n",
            "Decoded string:  ABCE\n",
            "Before: ba =  bytearray(b'hello')\n",
            "After: ba =  bytearray(b'Hello')\n",
            "<class 'memoryview'>  mem_view =  <memory at 0x7cee2d4fd000>\n",
            "<memory at 0x7cee2d4fd3c0>\n",
            "b'ion B'\n"
          ]
        }
      ]
    },
    {
      "cell_type": "code",
      "source": [
        "x: str = None\n",
        "y: str = None\n",
        "z: str = x\n",
        "#display the data type of x:\n",
        "print(type(x))\n",
        "print(\"value of x = \" + str(x) )\n",
        "print(\"x == y = \", x == y)\n",
        "print(\"id(x) = \", id(x))\n",
        "print(\"id(y) = \", id(y))\n",
        "print(\"id(z) = \", id(z))\n",
        "print(\"x is y = \", x is y)\n",
        "print(\"x is z = \", x is z)\n",
        "print(\"id(x) is id(z) = \", id(x) is id(z)) # False :( why? you will get the answer in topic 'Integer Literals in Python'\n",
        "print(\"id(x) == id(z) = \", id(x) == id(z)) # True\n",
        "'''\n",
        "In Python, `==` is the equality operator, which checks if the values of two objects are equal.\n",
        "On the other hand, `is` is the identity operator, which checks if two objects are the same object in memory.\n",
        "'''\n",
        "\n",
        "print(\"None is None            = \", None is None) # True\n",
        "print(\"None == None            = \", None == None) # True\n",
        "print(\"None == x               = \", None == x)\n",
        "print(\"None is x               = \", None is x)\n",
        "print(\"id(None) is id(None)    = \", id(None) is id(None)) # 'is' check memory space sharing\n",
        "#If number is out of integer literal range -5 to 256 then even the same number are considered as seprate object\n",
        "\n",
        "print(\"\"\"Variable x, y & z have 'None' value, as we know that 'None' is a singleton object,\n",
        "meaning that there is only one instance of `None` in the entire Python environment.\n",
        "So the id(x), id(y) & id(z) represents the same object id in memory.\\n\"\"\")\n",
        "x: str = None\n",
        "y: str = None\n",
        "z: str = x\n",
        "print(\"ID of variable x  = \" + str(id(x)))\n",
        "print(\"ID of variable y  = \" + str(id(y)))\n",
        "print(\"ID of variable z  = \" + str(id(z)))\n",
        "print(\"\\nIs variable x & y shares the same memory space? \\nThe answer is: \" + str(id(x) == id(y)))\n",
        "\n",
        "if(None):\n",
        "  print(\"if block: This line of code will not execute because in Python 'None' is considered False\")\n",
        "else:\n",
        "  print(\"else block: As None is considered False, so this line of code will execute\")"
      ],
      "metadata": {
        "id": "NtUbQXRwIHqe",
        "colab": {
          "base_uri": "https://localhost:8080/"
        },
        "outputId": "4275a6a8-9db9-439a-ebb5-6eb682d7940a"
      },
      "execution_count": null,
      "outputs": [
        {
          "output_type": "stream",
          "name": "stdout",
          "text": [
            "<class 'NoneType'>\n",
            "value of x = None\n",
            "x == y =  True\n",
            "id(x) =  9695488\n",
            "id(y) =  9695488\n",
            "id(z) =  9695488\n",
            "x is y =  True\n",
            "x is z =  True\n",
            "id(x) is id(z) =  False\n",
            "id(x) == id(z) =  True\n",
            "None is None            =  True\n",
            "None == None            =  True\n",
            "None == x               =  True\n",
            "None is x               =  True\n",
            "id(None) is id(None)    =  False\n",
            "Variable x, y & z have 'None' value, as we know that 'None' is a singleton object,\n",
            "meaning that there is only one instance of `None` in the entire Python environment.\n",
            "So the id(x), id(y) & id(z) represents the same object id in memory.\n",
            "\n",
            "ID of variable x  = 9695488\n",
            "ID of variable y  = 9695488\n",
            "ID of variable z  = 9695488\n",
            "\n",
            "Is variable x & y shares the same memory space? \n",
            "The answer is: True\n",
            "else block: As None is considered False, so this line of code will execute\n"
          ]
        }
      ]
    },
    {
      "cell_type": "code",
      "source": [
        "x: int = 1\n",
        "y: int = 1\n",
        "z: int = x\n",
        "print(\"Value of x = \" + str(x) + \", and id(x) = \" + str(id(x))) # when you need to concatinate any thing with string you need to first cast it to str()\n",
        "print(\"Value of y = \" + str(y) + \", and id(y) = \" + str(id(y)))\n",
        "print(\"Value of z = \" + str(z) + \", and id(z) = \" + str(id(z)))\n",
        "print(\"id(x) == id(y) = \", id(x) == id(y) )\n",
        "print(\"id(x) is id(y) = \", id(x) is id(y) ) # ;)\n",
        "\n",
        "x = -6\n",
        "y = -6\n",
        "z = x\n",
        "print(\"Value of x = \" + str(x) + \", and id(x) = \" + str(id(x)))\n",
        "print(\"Value of y = \" + str(y) + \", and id(y) = \" + str(id(y)))\n",
        "print(\"Value of z = \" + str(z) + \", and id(z) = \" + str(id(z)))\n",
        "print(\"\\n ===================== \\n\")\n",
        "a = 257\n",
        "b = 257\n",
        "c = a\n",
        "print(\"Value of x = \" + str(a) + \", and id(a) = \" + str(id(a)))\n",
        "print(\"Value of y = \" + str(b) + \", and id(b) = \" + str(id(b)))\n",
        "print(\"Value of z = \" + str(c) + \", and id(c) = \" + str(id(c)))\n",
        "\n",
        "print(\"\\n...\\n\")\n",
        "\n",
        "shark1_age = 300\n",
        "shark2_age = 300\n",
        "print(\"Value of shark1_age = \" + str(shark1_age) + \", and id(shark1_age) = \" + str(id(shark1_age)))\n",
        "print(\"Value of shark2_age = \" + str(shark2_age) + \", and id(shark2_age) = \" + str(id(shark2_age)))\n",
        "if(shark1_age == shark2_age): #comparison by value\n",
        "  print(\"shark1_age & shark2_age have same age\")\n",
        "else:\n",
        "  print(\"shark1_age & shark2_age have different age\")\n",
        "print(\" ===================== \")\n",
        "if(id(shark1_age) == id(shark2_age)):#comparison by id()\n",
        "  print(\"shark1_age & shark2_age have same id\")\n",
        "else:\n",
        "  print(\"shark1_age & shark2_age have different id\")"
      ],
      "metadata": {
        "colab": {
          "base_uri": "https://localhost:8080/"
        },
        "id": "xibhYc9haa_X",
        "outputId": "efe303e7-4455-4b66-f3e6-66a8626ed06b"
      },
      "execution_count": null,
      "outputs": [
        {
          "output_type": "stream",
          "name": "stdout",
          "text": [
            "Value of x = 1, and id(x) = 10757736\n",
            "Value of y = 1, and id(y) = 10757736\n",
            "Value of z = 1, and id(z) = 10757736\n",
            "id(x) == id(y) =  True\n",
            "id(x) is id(y) =  False\n",
            "Value of x = -6, and id(x) = 137657128947408\n",
            "Value of y = -6, and id(y) = 137657128949392\n",
            "Value of z = -6, and id(z) = 137657128947408\n",
            "\n",
            " ===================== \n",
            "\n",
            "Value of x = 257, and id(a) = 137657128952752\n",
            "Value of y = 257, and id(b) = 137657128950992\n",
            "Value of z = 257, and id(c) = 137657128952752\n",
            "\n",
            "...\n",
            "\n",
            "Value of shark1_age = 300, and id(shark1_age) = 137657128951120\n",
            "Value of shark2_age = 300, and id(shark2_age) = 137657128952656\n",
            "shark1_age & shark2_age have same age\n",
            " ===================== \n",
            "shark1_age & shark2_age have different id\n"
          ]
        }
      ]
    },
    {
      "cell_type": "code",
      "source": [
        "i: int = 10\n",
        "print(\"Value of i = \" + str(i) + \",     Type of i = \" + str(type(i)))\n",
        "j: float = 20.6\n",
        "f: float = i + j #Implicit Type Casting\n",
        "print(\"Value of f = \", f , \",   Type of f = \" + str(type(f)))\n",
        "f1: float = 66.89\n",
        "print(\"Value of f1 = \" + str(f1) + \", Type of i = \" + str(type(f1)))\n",
        "i1: int = int(f1) #When ever you type cast a float value into an integer it truncate\n",
        "             #the decimal part and only keeps the whole number\n",
        "print(\"Value of i1 = \" + str(i1) + \",    Type of i = \" + str(type(i1)))\n",
        "s: str = \"25.8\"\n",
        "f2: float = float(s)\n",
        "print(\"Value of f2 = \" + str(f2) + \",  Type of i = \" + str(type(f2)))\n",
        "#uncomment the below line of code to see error\n",
        "#i2 = int(s) #correct this error by casting with float()\n",
        "#print(\"Value of i2 = \" + str(i2) + \", Type of i = \" + str(type(i2)))"
      ],
      "metadata": {
        "colab": {
          "base_uri": "https://localhost:8080/"
        },
        "id": "O2SRuQlNpbkO",
        "outputId": "4c1d5192-50da-45ea-a1cd-62329c90714d"
      },
      "execution_count": null,
      "outputs": [
        {
          "output_type": "stream",
          "name": "stdout",
          "text": [
            "Value of i = 10,     Type of i = <class 'int'>\n",
            "Value of f =  30.6 ,   Type of f = <class 'float'>\n",
            "Value of f1 = 66.89, Type of i = <class 'float'>\n",
            "Value of i1 = 66,    Type of i = <class 'int'>\n",
            "Value of f2 = 25.8,  Type of i = <class 'float'>\n"
          ]
        }
      ]
    },
    {
      "cell_type": "code",
      "source": [
        "k: int = -9 #Any number either positive or negative, beside '0' ZERO is considered True\n",
        "b: bool = bool(k)\n",
        "print(\"Value of b = \" + str(b) + \", Type of b = \" + str(type(b)))\n",
        "\n",
        "print(\"\\n =================== \\n\")\n",
        "\n",
        "if(k):\n",
        "  print(\"\"\"if block: This line of code will execute if we provide any integer value\n",
        "          other then '0' ZERO\"\"\")\n",
        "else:\n",
        "  print(\"else block: As '0' is considered False, so this line of code will not execute\")\n",
        "\n",
        "print(\"\\n =================== \\n\")\n",
        "\n",
        "print(\"check: bool(\\\"55\\\")             = \", bool(\"55\"))\n",
        "print(\"check: bool(\\\"\\\")               = \", bool(\"\"))\n",
        "print(\"check: bool([1, 2, 3])        = \", bool([1, 2, 3]))\n",
        "print(\"check: bool({\\\"key\\\", \\\"value\\\"}) = \", bool({\"key\", \"value\"}))\n",
        "\n",
        "#Note: we will learn about list and dictionary in up comming classes\n",
        "print(\"check: bool([])               = \", bool([])) #[] square brackets used to represent list\n",
        "print(\"check: bool({})               = \", bool({})) #{} curly brackets used to represent dictionary"
      ],
      "metadata": {
        "colab": {
          "base_uri": "https://localhost:8080/"
        },
        "id": "J17wJoX4r810",
        "outputId": "11092405-6cf7-4c44-d490-2e98344caaeb"
      },
      "execution_count": null,
      "outputs": [
        {
          "output_type": "stream",
          "name": "stdout",
          "text": [
            "Value of b = True, Type of b = <class 'bool'>\n",
            "\n",
            " =================== \n",
            "\n",
            "if block: This line of code will execute if we provide any integer value\n",
            "          other then '0' ZERO\n",
            "\n",
            " =================== \n",
            "\n",
            "check: bool(\"55\")             =  True\n",
            "check: bool(\"\")               =  False\n",
            "check: bool([1, 2, 3])        =  True\n",
            "check: bool({\"key\", \"value\"}) =  True\n",
            "check: bool([])               =  False\n",
            "check: bool({})               =  False\n"
          ]
        }
      ]
    },
    {
      "cell_type": "code",
      "source": [
        "age: int = 20\n",
        "weight: float = 66.89\n",
        "print(\"check: isinstance(age, int)      = \", isinstance(age, int))\n",
        "print(\"check: isinstance(weight, int)   = \", isinstance(weight, int))\n",
        "print(\"check: isinstance(weight, float) = \", isinstance(weight, int))"
      ],
      "metadata": {
        "colab": {
          "base_uri": "https://localhost:8080/"
        },
        "id": "4tLBdv9puD-g",
        "outputId": "16e0de52-c848-481d-9021-e48afb379ff1"
      },
      "execution_count": null,
      "outputs": [
        {
          "output_type": "stream",
          "name": "stdout",
          "text": [
            "check: isinstance(age, int)      =  True\n",
            "check: isinstance(weight, int)   =  False\n",
            "check: isinstance(weight, float) =  False\n"
          ]
        }
      ]
    }
  ]
}