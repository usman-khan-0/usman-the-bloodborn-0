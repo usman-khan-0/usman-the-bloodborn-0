{
  "nbformat": 4,
  "nbformat_minor": 0,
  "metadata": {
    "colab": {
      "provenance": [],
      "authorship_tag": "ABX9TyPjqQ/bbBxgMC2J1YIbqYZ8",
      "include_colab_link": true
    },
    "kernelspec": {
      "name": "python3",
      "display_name": "Python 3"
    },
    "language_info": {
      "name": "python"
    }
  },
  "cells": [
    {
      "cell_type": "markdown",
      "metadata": {
        "id": "view-in-github",
        "colab_type": "text"
      },
      "source": [
        "<a href=\"https://colab.research.google.com/github/usman-the-bloodborn-0/usman-the-bloodborn-0/blob/main/PRAACTCE_WORK.ipynb\" target=\"_parent\"><img src=\"https://colab.research.google.com/assets/colab-badge.svg\" alt=\"Open In Colab\"/></a>"
      ]
    },
    {
      "cell_type": "code",
      "execution_count": null,
      "metadata": {
        "colab": {
          "base_uri": "https://localhost:8080/"
        },
        "id": "l4HONWef15hX",
        "outputId": "813ed8e8-e68e-4712-abc5-53466b3fa38a"
      },
      "outputs": [
        {
          "output_type": "stream",
          "name": "stdout",
          "text": [
            "Enter a number: sg\n",
            "Invalid input. Please enter a valid number.\n"
          ]
        }
      ],
      "source": [
        "if (user_input := input(\"Enter a number: \")) and user_input.isdigit():\n",
        "    print(f\"user_input =  {user_input}\")\n",
        "else:\n",
        "    print(\"Invalid input. Please enter a valid number.\")"
      ]
    },
    {
      "cell_type": "code",
      "source": [
        "a: list = [1, 2, 3]\n",
        "b: list = [1, 2, 3]\n",
        "c: list = a\n",
        "\n",
        "print(\"a is c     =  \",a is c)       # True  (same object, sharing same memmory space)\n",
        "print(\"a is b     =  \",a is b)       # False (different objects, seperate memmory space)\n",
        "print(\"a == b     =  \", a == b)      # True  (same values, different memmory space but having same vlaues)\n",
        "print(\"a is not b =  \", a is not b)  # True  (True because of different memmory space, although having same memmory space)\n",
        "\n",
        "print('\\n-----\\n') # seperator for better output readability\n",
        "\n",
        "print(\"id(a) = \", id(a))\n",
        "print(\"id(b) = \", id(b))\n",
        "print(\"id(c) = \", id(c))"
      ],
      "metadata": {
        "colab": {
          "base_uri": "https://localhost:8080/"
        },
        "id": "DO6byReB2Jbr",
        "outputId": "2ad71b6e-4db6-4323-9b27-2c9037536296"
      },
      "execution_count": null,
      "outputs": [
        {
          "output_type": "stream",
          "name": "stdout",
          "text": [
            "a is c     =   True\n",
            "a is b     =   False\n",
            "a == b     =   True\n",
            "a is not b =   True\n",
            "\n",
            "-----\n",
            "\n",
            "id(a) =  136556913160768\n",
            "id(b) =  136556913158528\n",
            "id(c) =  136556913160768\n"
          ]
        }
      ]
    },
    {
      "cell_type": "code",
      "source": [
        "my_list: list = [1, 2, 3, 4, 5]\n",
        "\n",
        "print(\"my_list           = \", my_list)            # [1, 2, 3, 4, 5]\n",
        "print(\"3 in my_list      = \", 3 in my_list)       # True\n",
        "print(\"10 not in my_list = \", 10 not in my_list)  # True\n",
        "\n",
        "print(\"\\n-----\\n\")\n",
        "\n",
        "my_string: str = \"Operation Badar\"\n",
        "\n",
        "print(\"my_string                 = \", my_string)                # Operation Badar\n",
        "print(\"'O' in my_string          = \", 'O' in my_string)         # True\n",
        "print(\"'Hello' not in my_string  = \", 'Hello' not in my_string) # True"
      ],
      "metadata": {
        "colab": {
          "base_uri": "https://localhost:8080/"
        },
        "id": "nj1AhsjG6O_i",
        "outputId": "2ec9086e-badd-4c23-a768-a7a71d75a52b"
      },
      "execution_count": null,
      "outputs": [
        {
          "output_type": "stream",
          "name": "stdout",
          "text": [
            "my_list           =  [1, 2, 3, 4, 5]\n",
            "3 in my_list      =  True\n",
            "10 not in my_list =  True\n",
            "\n",
            "-----\n",
            "\n",
            "my_string                 =  Operation Badar\n",
            "'O' in my_string          =  True\n",
            "'Hello' not in my_string  =  True\n"
          ]
        }
      ]
    },
    {
      "cell_type": "code",
      "source": [
        "import keyword\n",
        "\n",
        "# Line continuation (`\\`) allows printing a statement over multiple lines, improving code readability without breaking the string.\n",
        "print(\"The list of \\\n",
        "keywords is : \")\n",
        "\n",
        "# printing all keywords at once using \"kwlist()\"\n",
        "print(keyword.kwlist)"
      ],
      "metadata": {
        "colab": {
          "base_uri": "https://localhost:8080/"
        },
        "id": "4UvCr-NeF-jv",
        "outputId": "f670b8ad-fa1e-45ea-d790-90103eda04f2"
      },
      "execution_count": null,
      "outputs": [
        {
          "output_type": "stream",
          "name": "stdout",
          "text": [
            "The list of keywords is : \n",
            "['False', 'None', 'True', 'and', 'as', 'assert', 'async', 'await', 'break', 'class', 'continue', 'def', 'del', 'elif', 'else', 'except', 'finally', 'for', 'from', 'global', 'if', 'import', 'in', 'is', 'lambda', 'nonlocal', 'not', 'or', 'pass', 'raise', 'return', 'try', 'while', 'with', 'yield']\n"
          ]
        }
      ]
    },
    {
      "cell_type": "code",
      "source": [
        "my_string: str = r'Hello\\t,\\n Worl\\d!'\n",
        "print(my_string)\n",
        "\n",
        "print(\"\\n-----\\n\")\n",
        "\n",
        "my_string = 'Hello,\\n World!'\n",
        "print(my_string)"
      ],
      "metadata": {
        "colab": {
          "base_uri": "https://localhost:8080/"
        },
        "id": "tzbn69mdJc86",
        "outputId": "1982b4b8-40e1-4db5-8e0d-22d044e58bf3"
      },
      "execution_count": null,
      "outputs": [
        {
          "output_type": "stream",
          "name": "stdout",
          "text": [
            "Hello\\t,\\n Worl\\d!\n",
            "\n",
            "-----\n",
            "\n",
            "Hello,\n",
            " World!\n"
          ]
        }
      ]
    },
    {
      "cell_type": "code",
      "source": [
        "print(\"Hello,\\b World!\") #\\b backspace\n",
        "print(\"Hello,\\tWorld!\")  #\\t tab\n",
        "print(\"Hello, \\\"World!\\\"\")\n",
        "print(\"Hello,\\ World!\")"
      ],
      "metadata": {
        "colab": {
          "base_uri": "https://localhost:8080/"
        },
        "id": "0XfgzpXGYcti",
        "outputId": "5e0d561e-26df-48d3-d848-e734ac39b36d"
      },
      "execution_count": null,
      "outputs": [
        {
          "output_type": "stream",
          "name": "stdout",
          "text": [
            "Hello,\b World!\n",
            "Hello,\tWorld!\n",
            "Hello, \"World!\"\n",
            "Hello,\\ World!\n"
          ]
        }
      ]
    },
    {
      "cell_type": "code",
      "source": [
        "print(r\"\\u0041 = \", \"\\u0041\")\n",
        "print(r\"\\u0042 = \", \"\\u0042\")\n",
        "print(r\"\\u0043 = \", \"\\u0043\")"
      ],
      "metadata": {
        "colab": {
          "base_uri": "https://localhost:8080/"
        },
        "id": "4a4HEvPtYoto",
        "outputId": "833a5e94-e8b0-4896-fde8-f022c067640c"
      },
      "execution_count": null,
      "outputs": [
        {
          "output_type": "stream",
          "name": "stdout",
          "text": [
            "\\u0041 =  A\n",
            "\\u0042 =  B\n",
            "\\u0043 =  C\n"
          ]
        }
      ]
    },
    {
      "cell_type": "code",
      "source": [
        "my_string = 'Hello, ' + 'World!' #Concatenation using + sign\n",
        "print(my_string)"
      ],
      "metadata": {
        "colab": {
          "base_uri": "https://localhost:8080/"
        },
        "id": "8Wlhbx_sY9R-",
        "outputId": "5c1cfb7a-26ef-4c36-c889-ba19db5c63d5"
      },
      "execution_count": null,
      "outputs": [
        {
          "output_type": "stream",
          "name": "stdout",
          "text": [
            "Hello, World!\n"
          ]
        }
      ]
    },
    {
      "cell_type": "code",
      "source": [
        "#Indexing, index value starts with 0 zero, so  the first character\n",
        "#have index vlaue 0, second character have index value 1 and the third one\n",
        "#have index value 2 and so on.\n",
        "print(my_string[1]) #It will print 'e'\n",
        "\n",
        "my_string: str = 'Hello, World!'\n",
        "print(my_string[7:]) #It starts from 7 till the end of the string\n",
        "print(my_string[0:5]) #It starts from 0 till the index 4 - (0,1,2,3,4) = 5 characters\n",
        "\n",
        "print(len(\" Hello, World! \"))#calculating length of a string even the space will be treated as character\n",
        "\n",
        "print(my_string.upper()) #Upper Case\n",
        "print(my_string.lower()) #Lower Case"
      ],
      "metadata": {
        "colab": {
          "base_uri": "https://localhost:8080/"
        },
        "id": "XGEuJ0XgfbSJ",
        "outputId": "ce269a50-3f4b-4b5b-cfd9-850b61c5cdc5"
      },
      "execution_count": null,
      "outputs": [
        {
          "output_type": "stream",
          "name": "stdout",
          "text": [
            "e\n",
            "World!\n",
            "Hello\n",
            "15\n",
            "HELLO, WORLD!\n",
            "hello, world!\n"
          ]
        }
      ]
    },
    {
      "cell_type": "code",
      "source": [
        "my_string: str = 'Hello ! World'\n",
        "\n",
        "# split into a list of words\n",
        "print(\"my_string.split()    = \", my_string.split())\n",
        "\n",
        "words = my_string.split(\" \") # Space as a delimiter\n",
        "print('my_string.split(\" \") = ',words)\n",
        "\n",
        "words = my_string.split(\"l\") # Splitting using 'l' as the delimiter\n",
        "print('my_string.split(\"l\") = ', words)"
      ],
      "metadata": {
        "colab": {
          "base_uri": "https://localhost:8080/"
        },
        "id": "4udOXRdGftm1",
        "outputId": "81e2d400-1722-417f-d10c-f655feb3c7e8"
      },
      "execution_count": null,
      "outputs": [
        {
          "output_type": "stream",
          "name": "stdout",
          "text": [
            "my_string.split()    =  ['Hello', '!', 'World']\n",
            "my_string.split(\" \") =  ['Hello', '!', 'World']\n",
            "my_string.split(\"l\") =  ['He', '', 'o ! Wor', 'd']\n"
          ]
        }
      ]
    },
    {
      "cell_type": "code",
      "source": [
        "# join the words back into a single string\n",
        "my_string: str = ', '\n",
        "joined_string: str = my_string.join(['Pakistan', 'USA', 'Canada', 'France', 'Japan'])\n",
        "print(joined_string)  # Pakistan, USA, Canada, France, Japan\n",
        "\n",
        "joined_string: str = my_string.join('Pakistan') # my_string works as a seprator for each character in the word 'Pakistan', because string is a sequence of caharacter\n",
        "print(joined_string) # P, a, k, i, s, t, a, n\n",
        "print('-'.join(['Apple', 'Banana', 'Cherry'])); # ; The line terminitor"
      ],
      "metadata": {
        "id": "gEUI00lehGE4",
        "colab": {
          "base_uri": "https://localhost:8080/"
        },
        "outputId": "f3324156-ced4-46e1-ad32-6cfe28d21514"
      },
      "execution_count": null,
      "outputs": [
        {
          "output_type": "stream",
          "name": "stdout",
          "text": [
            "Pakistan, USA, Canada, France, Japan\n",
            "P, a, k, i, s, t, a, n\n",
            "Apple-Banana-Cherry\n"
          ]
        }
      ]
    },
    {
      "cell_type": "code",
      "source": [
        "my_string: str = \"Hello, World! Hello, Pakistan\"\n",
        "# replace a substring\n",
        "my_string = my_string.replace('Hello', 'Salam Walikum')\n",
        "print(my_string)  # prints 'Salam Walikum, World! Salam Walikum, Pakistan'\n",
        "\n",
        "my_string: str = \"Hello, World! Hello, Pakistan\"\n",
        "# find the index of a substring\n",
        "starting_index = my_string.find('Hello') # Index value of the first occurance of the word 'Hello'\n",
        "print(\"starting_index = \", starting_index)  # prints 0"
      ],
      "metadata": {
        "colab": {
          "base_uri": "https://localhost:8080/"
        },
        "id": "HnCuiEQejL8R",
        "outputId": "779353ce-a15e-4584-d5a5-7b0314411e2c"
      },
      "execution_count": null,
      "outputs": [
        {
          "output_type": "stream",
          "name": "stdout",
          "text": [
            "Salam Walikum, World! Salam Walikum, Pakistan\n",
            "starting_index =  0\n"
          ]
        }
      ]
    },
    {
      "cell_type": "code",
      "source": [
        "# Now lets find the second occurance of the word 'Hello'\n",
        "# index value start from zero\n",
        "\n",
        "starting_index2: str = starting_index + len(\"Hello\") #len=5\n",
        "\n",
        "print(my_string[starting_index2:] ) # after slicing \", World! Hello, Pakistan\n",
        "print(my_string[starting_index2:].find(\"Hello\")) # Starting index 9, because of slicing \", World! Hello, Pakistan\"\n",
        "\n",
        "print(my_string)\n",
        "print(len(my_string)) #character count = 29\n",
        "\n",
        "print('\\n-----\\n')\n",
        "\n",
        "print(\"Substring to search    = \", \"Hello\")\n",
        "print(\"Starting index         = \", len(\"Hello\")) # 5\n",
        "print(\"End index              = \", len(my_string))\n",
        "print(\"Second Occurance index = \", my_string.index((\"Hello\"), len(\"Hello\"), len(my_string))) # (substring, start, end) - print 14\n",
        "\n",
        "#Uncomment to see ValueError: substring not found\n",
        "#print(\"Second Occurance index = \", my_string.index((\"Hello7\"), len(\"Hello\"), len(my_string))) # (substring, start, end)\n",
        "\n",
        "print(my_string.find(\"Hello7\")) # -1 for not found"
      ],
      "metadata": {
        "colab": {
          "base_uri": "https://localhost:8080/"
        },
        "id": "S1zGDdcRlKGY",
        "outputId": "68ac3091-9183-4394-8cb6-b1226376193b"
      },
      "execution_count": null,
      "outputs": [
        {
          "output_type": "stream",
          "name": "stdout",
          "text": [
            ", World! Hello, Pakistan\n",
            "9\n",
            "Hello, World! Hello, Pakistan\n",
            "29\n",
            "\n",
            "-----\n",
            "\n",
            "Substring to search    =  Hello\n",
            "Starting index         =  5\n",
            "End index              =  29\n",
            "Second Occurance index =  14\n",
            "-1\n"
          ]
        }
      ]
    },
    {
      "cell_type": "code",
      "source": [
        "\n",
        "my_string = \"Hello, World! Hello, Pakistan\"\n",
        "# count the occurrences of a substring\n",
        "count = my_string.count('Hello')\n",
        "print(\"my_string.count('Hello') = \", count)  # prints 2\n",
        "\n",
        "# count the occurrences of a substring\n",
        "count = my_string.count('P')\n",
        "print(\"my_string.count('P')     = \", count)  # prints 1\n",
        "\n",
        "# count the occurrences of a substring\n",
        "count = my_string.count('o')\n",
        "print(\"my_string.count('o')     = \", count)  # prints 2\n",
        "\n",
        "# count the occurrences of a substring\n",
        "count = my_string.count('hello') # case sensitive\n",
        "print(\"my_string.count('hello') = \", count)  # prints 0"
      ],
      "metadata": {
        "colab": {
          "base_uri": "https://localhost:8080/"
        },
        "id": "Ef4PvP4il_Ia",
        "outputId": "1dd853e2-668e-467b-b23a-6b5401f33369"
      },
      "execution_count": null,
      "outputs": [
        {
          "output_type": "stream",
          "name": "stdout",
          "text": [
            "my_string.count('Hello') =  2\n",
            "my_string.count('P')     =  1\n",
            "my_string.count('o')     =  3\n",
            "my_string.count('hello') =  0\n"
          ]
        }
      ]
    },
    {
      "cell_type": "code",
      "source": [
        "name: str = 'John'\n",
        "age: int = 20\n",
        "first_letter: str = name[0]\n",
        "my_weight: float = 70.532000 # 70.536000\n",
        "\n",
        "#uncomment to see type\n",
        "#print(type((name, first_letter, age, my_weight)))\n",
        "\n",
        "# using % operator\n",
        "my_string: str = '''My name is %s, first letter of my name is \\'%c\\', I am %d years old and my weight id %.1f Kg.''' % (name, first_letter, age, my_weight)\n",
        "print(my_string)\n",
        "\n",
        "my_string = '''My name is %s, first letter of my name is \\'%c\\', I am %d years old and my weight id %.2f Kg.''' % (name, first_letter, age, my_weight) # Dont forget period %.2f\n",
        "print(my_string)"
      ],
      "metadata": {
        "colab": {
          "base_uri": "https://localhost:8080/"
        },
        "id": "oSDyTHUapog7",
        "outputId": "b326e206-dead-443b-9f0a-ebfecddbb9fb"
      },
      "execution_count": null,
      "outputs": [
        {
          "output_type": "stream",
          "name": "stdout",
          "text": [
            "My name is John, first letter of my name is 'J', I am 20 years old and my weight id 70.5 Kg.\n",
            "My name is John, first letter of my name is 'J', I am 20 years old and my weight id 70.53 Kg.\n"
          ]
        }
      ]
    },
    {
      "cell_type": "code",
      "source": [
        "# using str.format()\n",
        "name: str = 'John'\n",
        "age: int = 20\n",
        "my_string: str = 'My name is {} and I am {} years old.'.format(name, age) #order matters\n",
        "print(\"line 1: \",my_string)\n",
        "\n",
        "my_string: str = 'My name is {1} and I am {0} years old.'.format(age, name) #use indexing\n",
        "print(\"line 2: \",my_string)"
      ],
      "metadata": {
        "id": "smcU9MBi0B7P",
        "colab": {
          "base_uri": "https://localhost:8080/"
        },
        "outputId": "b0955657-7451-40df-971b-ce5acc88d148"
      },
      "execution_count": null,
      "outputs": [
        {
          "output_type": "stream",
          "name": "stdout",
          "text": [
            "line 1:  My name is John and I am 20 years old.\n",
            "line 2:  My name is John and I am 20 years old.\n"
          ]
        }
      ]
    },
    {
      "cell_type": "code",
      "source": [
        "a: str = \"hello\"\n",
        "b: str = \"hello\"\n",
        "\n",
        "#Both variable a and b have same id.\n",
        "print(id(a))\n",
        "print(id(b))\n",
        "\n",
        "c: str = a +\"\" # Nothing happen because we are appending a empty string.\n",
        "print(id(c))\n",
        "\n",
        "c: str = a +\" \" # A new string object is created in the pool.\n",
        "print(id(c))"
      ],
      "metadata": {
        "colab": {
          "base_uri": "https://localhost:8080/"
        },
        "id": "Qcfa3LLDpzef",
        "outputId": "4d397f01-d4e6-4d6d-ca63-693c13157da0"
      },
      "execution_count": null,
      "outputs": [
        {
          "output_type": "stream",
          "name": "stdout",
          "text": [
            "138108972148144\n",
            "138108972148144\n",
            "138108972148144\n",
            "138108368859120\n"
          ]
        }
      ]
    },
    {
      "cell_type": "code",
      "source": [
        "import sys\n",
        "a = sys.intern(\"hello world!\")\n",
        "b = sys.intern(\"hello world!\")\n",
        "print(a is b)  # True (manually interned)\n",
        "\n",
        "c = sys.intern(\"hello!\")\n",
        "d = sys.intern(\"hello!\")\n",
        "e = sys.intern(\"hello!\")\n",
        "print(c is d and e is b)"
      ],
      "metadata": {
        "colab": {
          "base_uri": "https://localhost:8080/"
        },
        "id": "cdIVS_EtZF-8",
        "outputId": "a8053203-9a53-4da6-af70-48ecb550cca0"
      },
      "execution_count": null,
      "outputs": [
        {
          "output_type": "stream",
          "name": "stdout",
          "text": [
            "True\n",
            "False\n"
          ]
        }
      ]
    },
    {
      "cell_type": "code",
      "source": [
        "a = \"hello\"\n",
        "b = \"hello\"\n",
        "print(a is b)  # True (both refer to the same string in the pool)\n",
        "\n",
        "a = \"this is a very long string\"\n",
        "b = \"this is a very long string\"\n",
        "print(a is b)  # False (not interned)\n",
        "print(\"id(a)\", id(a))\n",
        "print(\"id(b)\", id(b))\n",
        "\n",
        "import sys\n",
        "a = sys.intern(\"this is a very long string\")\n",
        "b = sys.intern(\"this is a very long string\")\n",
        "print(a is b)  # True (manually interned)\n",
        "print(\"id(a)\", id(a))\n",
        "print(\"id(b)\", id(b))\n",
        "\n",
        "a = \"hello\"\n",
        "b = \"world\"\n",
        "c = a + b  # Dynamically created string\n",
        "d = \"helloworld\"\n",
        "print(\"c is d = \", c is d)  # False (not interned or pooled)\n",
        "print(c, \" - id(c)\", id(c))\n",
        "print(d, \" - id(d)\", id(d))\n",
        "c1 = a + b\n",
        "print(\"c is c1 = \",  c is c1)\n",
        "print(c1, \" - id(c1)\", id(c1))\n",
        "print(c,  \" - id(c) \", id(c))\n",
        "print(\"is contant same = \", c == c1)"
      ],
      "metadata": {
        "id": "0aAk3RADbFQb",
        "colab": {
          "base_uri": "https://localhost:8080/"
        },
        "outputId": "97733dd8-f05f-4bb8-89f5-6bd389b408ed"
      },
      "execution_count": 14,
      "outputs": [
        {
          "output_type": "stream",
          "name": "stdout",
          "text": [
            "True\n",
            "False\n",
            "id(a) 138107583404976\n",
            "id(b) 138107581769936\n",
            "True\n",
            "id(a) 138107581765456\n",
            "id(b) 138107581765456\n",
            "c is d =  False\n",
            "helloworld  - id(c) 138107583024048\n",
            "helloworld  - id(d) 138107583035248\n",
            "c is c1 =  False\n",
            "helloworld  - id(c1) 138107583192560\n",
            "helloworld  - id(c)  138107583024048\n",
            "is contant same =  True\n"
          ]
        }
      ]
    },
    {
      "cell_type": "code",
      "source": [
        "# prompt:  print list of str functions using dir(), dont show function starting with\"__\"\n",
        "\n",
        "# Use dir() on an empty string to get the list of string methods\n",
        "string_methods = dir(\"\")\n",
        "\n",
        "# Filter out methods that start with \"__\"\n",
        "filtered_methods = [method for method in string_methods if not method.startswith(\"__\")]\n",
        "\n",
        "# Print the filtered list\n",
        "filtered_methods"
      ],
      "metadata": {
        "colab": {
          "base_uri": "https://localhost:8080/"
        },
        "id": "ik6URZ4rilGv",
        "outputId": "81260006-126a-4ae9-9ab7-ff9db5f95d0c"
      },
      "execution_count": 18,
      "outputs": [
        {
          "output_type": "execute_result",
          "data": {
            "text/plain": [
              "['capitalize',\n",
              " 'casefold',\n",
              " 'center',\n",
              " 'count',\n",
              " 'encode',\n",
              " 'endswith',\n",
              " 'expandtabs',\n",
              " 'find',\n",
              " 'format',\n",
              " 'format_map',\n",
              " 'index',\n",
              " 'isalnum',\n",
              " 'isalpha',\n",
              " 'isascii',\n",
              " 'isdecimal',\n",
              " 'isdigit',\n",
              " 'isidentifier',\n",
              " 'islower',\n",
              " 'isnumeric',\n",
              " 'isprintable',\n",
              " 'isspace',\n",
              " 'istitle',\n",
              " 'isupper',\n",
              " 'join',\n",
              " 'ljust',\n",
              " 'lower',\n",
              " 'lstrip',\n",
              " 'maketrans',\n",
              " 'partition',\n",
              " 'removeprefix',\n",
              " 'removesuffix',\n",
              " 'replace',\n",
              " 'rfind',\n",
              " 'rindex',\n",
              " 'rjust',\n",
              " 'rpartition',\n",
              " 'rsplit',\n",
              " 'rstrip',\n",
              " 'split',\n",
              " 'splitlines',\n",
              " 'startswith',\n",
              " 'strip',\n",
              " 'swapcase',\n",
              " 'title',\n",
              " 'translate',\n",
              " 'upper',\n",
              " 'zfill']"
            ]
          },
          "metadata": {},
          "execution_count": 18
        }
      ]
    },
    {
      "cell_type": "code",
      "source": [
        "# String repetition examples\n",
        "\n",
        "base_string = \"Hello\"\n",
        "repetition_count = 3\n",
        "\n",
        "repeated_string = base_string * repetition_count\n",
        "\n",
        "print(f\"Original string: {base_string}\")\n",
        "print(f\"Repeated string: {repeated_string}\")\n",
        "\n",
        "# Using repetition for visual separators\n",
        "separator = \"-\" * 30\n",
        "print(separator)\n",
        "\n",
        "# Repeating with different strings and counts\n",
        "pattern = \"* \"\n",
        "repeated_pattern = pattern * 5\n",
        "print(repeated_pattern)\n",
        "\n",
        "# Repeating zero times\n",
        "empty_string = \"Test\" * 0\n",
        "print(f\"Empty string: '{empty_string}'\")\n",
        "\n",
        "#using string repetition in a loop.\n",
        "for i in range(1,6):\n",
        "  print(\"*\"*i)"
      ],
      "metadata": {
        "colab": {
          "base_uri": "https://localhost:8080/"
        },
        "id": "ZoobHUKZi5US",
        "outputId": "ad2d4fcf-92a0-40ed-b17f-8b566b95eada"
      },
      "execution_count": 19,
      "outputs": [
        {
          "output_type": "stream",
          "name": "stdout",
          "text": [
            "Original string: Hello\n",
            "Repeated string: HelloHelloHello\n",
            "------------------------------\n",
            "* * * * * \n",
            "Empty string: ''\n",
            "*\n",
            "**\n",
            "***\n",
            "****\n",
            "*****\n"
          ]
        }
      ]
    },
    {
      "cell_type": "code",
      "source": [
        "# Define two strings\n",
        "str1 = \"apple\"\n",
        "str2 = \"banana\"\n",
        "\n",
        "print(\"str1 == str2 = \",str1 == str2)  # False (because \"apple\" is not equal to \"banana\")\n",
        "print(\"str1 != str2 = \",str1 != str2)  # True  (because \"apple\" is different from \"banana\")\n",
        "print(\"str1 > str2  = \", str1 > str2)   # False (because \"apple\" comes before \"banana\" in dictionary order)\n",
        "print(\"str1 < str2  = \", str1 < str2)   # True  (because \"apple\" comes before \"banana\")"
      ],
      "metadata": {
        "colab": {
          "base_uri": "https://localhost:8080/"
        },
        "id": "Bt0dxxgHnHel",
        "outputId": "faf7a734-0431-421f-a0a8-18334adf16bb"
      },
      "execution_count": 20,
      "outputs": [
        {
          "output_type": "stream",
          "name": "stdout",
          "text": [
            "str1 == str2 =  False\n",
            "str1 != str2 =  True\n",
            "str1 > str2  =  False\n",
            "str1 < str2  =  True\n"
          ]
        }
      ]
    },
    {
      "cell_type": "code",
      "source": [
        "print('\"Apple\" > \"apple\"   = ', \"Apple\" > \"apple\")  # False ('A' has a smaller Unicode value than 'a')\n",
        "print('\"apple\" == \"APPLE\") = ', \"apple\" == \"APPLE\") # False (case-sensitive)\n",
        "print('\"abc\" < \"abd\"       = ', \"abc\" < \"abd\")      # True ('c' < 'd')"
      ],
      "metadata": {
        "colab": {
          "base_uri": "https://localhost:8080/"
        },
        "id": "wDqbhOMHn4YY",
        "outputId": "c3dc28e3-2711-49ff-c0fb-553331dd2c24"
      },
      "execution_count": 21,
      "outputs": [
        {
          "output_type": "stream",
          "name": "stdout",
          "text": [
            "\"Apple\" > \"apple\"   =  False\n",
            "\"apple\" == \"APPLE\") =  False\n",
            "\"abc\" < \"abd\"       =  True\n"
          ]
        }
      ]
    },
    {
      "cell_type": "code",
      "source": [
        "word = \"apple\"\n",
        "if word > \"apple\":\n",
        "    print(f\"{word} comes after apple in alphabetical order\")\n",
        "else:\n",
        "    print(f\"{word} comes before apple in alphabetical order\")"
      ],
      "metadata": {
        "colab": {
          "base_uri": "https://localhost:8080/"
        },
        "id": "EuhlXEOcoXUK",
        "outputId": "2e3b7d59-a83d-4233-ab9d-0b7a2c1175db"
      },
      "execution_count": 24,
      "outputs": [
        {
          "output_type": "stream",
          "name": "stdout",
          "text": [
            "apple comes before apple in alphabetical order\n"
          ]
        }
      ]
    },
    {
      "cell_type": "code",
      "source": [
        "num_int: int = 10\n",
        "num_float = num_int + 5.5  # int + float = float. skipped type hint to see what data type is assigned at runtime\n",
        "print(num_float, type(num_float))\n",
        "\n",
        "num_int: int = 7\n",
        "num_complex: complex = num_int + 3j  # int + complex → complex\n",
        "print(num_complex, type(num_complex))\n",
        "\n",
        "# num_int automatically promotes int to complex type\n",
        "num_int = num_complex\n",
        "print(num_int, type(num_int))"
      ],
      "metadata": {
        "colab": {
          "base_uri": "https://localhost:8080/"
        },
        "id": "l5QBkK6cowIN",
        "outputId": "044e24c8-3671-4bce-ea4d-04531724aa61"
      },
      "execution_count": 26,
      "outputs": [
        {
          "output_type": "stream",
          "name": "stdout",
          "text": [
            "15.5 <class 'float'>\n",
            "(7+3j) <class 'complex'>\n",
            "(7+3j) <class 'complex'>\n"
          ]
        }
      ]
    },
    {
      "cell_type": "code",
      "source": [
        "num_str = \"100\"\n",
        "num_int = 5\n",
        "print(int(num_str) + num_int) # ✅  casting str to int, arthmitic operation perfomed\n",
        "print(num_str + str(num_int)) # ✅  casting int to str, string concatenation performed"
      ],
      "metadata": {
        "colab": {
          "base_uri": "https://localhost:8080/"
        },
        "id": "YZ6B2v6Rph5x",
        "outputId": "08986b70-890d-45de-866a-24ebe06daabb"
      },
      "execution_count": 27,
      "outputs": [
        {
          "output_type": "stream",
          "name": "stdout",
          "text": [
            "105\n",
            "1005\n"
          ]
        }
      ]
    },
    {
      "cell_type": "code",
      "source": [
        "num_float: float = 9.8\n",
        "num_int = int(num_float) # skipped type hint to see what data type is assigned at runtime\n",
        "print(num_int, type(num_int))\n",
        "\n",
        "b: bool = True\n",
        "print(\"int(b) = \", int(b))\n",
        "\n",
        "num_str: str = \"123\"\n",
        "#num_str = \"123abc\" #uncomment to see error\n",
        "num_int = int(num_str) # skipped type hint to see what data type is assigned at runtime\n",
        "print(num_int, type(num_int))\n",
        "\n",
        "print(int(True))   # Output: 1\n",
        "print(int(False))  # Output: 0\n",
        "\n",
        "num_int: int = 5\n",
        "num_float = float(num_int) # skipped type hint to see what data type is assigned at runtime\n",
        "print(num_float, type(num_float))\n",
        "\n",
        "num_str: str = \"3.14\"\n",
        "num_float = float(num_str) # skipped type hint to see what data type is assigned at runtime\n",
        "print(num_float, type(num_float))\n",
        "\n",
        "num: int = 100\n",
        "num_str = str(num) # skipped type hint to see what data type is assigned at runtime\n",
        "print(num_str, type(num_str))\n",
        "\n",
        "print(str(True))   # Output: \"True\"\n",
        "print(str(False))  # Output: \"False\"\n",
        "\n",
        "print(\"bool(1)       = \", bool(1))       # True\n",
        "print(\"bool(0)       = \", bool(0))       # False\n",
        "print(\"bool(-10)     = \", bool(-10))     # True (Non-zero numbers are True)\n",
        "print('bool(\"\")      = ', bool(\"\"))      # False (Empty string)\n",
        "print('bool(\"Hello\") = ', bool(\"Hello\")) # True (Non-empty string)\n",
        "print(\"bool([])      = \", bool([]))      # False (Empty list)\n",
        "print(\"bool([1, 2])  = \", bool([1, 2]))  # True (Non-empty list)\n",
        "\n",
        "tup: tuple = (1, 2.7, 3, 'OB')\n",
        "lst = list(tup) # skipped type hint to see what data type is assigned at runtime\n",
        "print(lst, type(lst))\n",
        "\n",
        "lst: list = [1, 2, 2, 3, 4, 4, 5, \"Agentic AI\"]\n",
        "s = set(lst)      # skipped type hint to see what data type is assigned at runtime\n",
        "print(s, type(s))\n",
        "\n",
        "lst: list = [(\"name\", \"Alice\"), (\"age\", 25)]\n",
        "d = dict(lst)       # skipped type hint to see what data type is assigned at runtime\n",
        "print(d, type(d))\n",
        "\n",
        "num: int = 5\n",
        "comp = complex(num)   # skipped type hint to see what data type is assigned at runtime\n",
        "print(comp, type(comp))  # Output: (5+0j)\n",
        "\n",
        "num = str(comp)     # skipped type hint to see what data type is assigned at runtime\n",
        "num"
      ],
      "metadata": {
        "colab": {
          "base_uri": "https://localhost:8080/",
          "height": 399
        },
        "id": "Mtd-nVf0qCNS",
        "outputId": "925034a1-b526-4be2-e5fe-568417a17fc3"
      },
      "execution_count": 31,
      "outputs": [
        {
          "output_type": "stream",
          "name": "stdout",
          "text": [
            "9 <class 'int'>\n",
            "int(b) =  1\n",
            "123 <class 'int'>\n",
            "1\n",
            "0\n",
            "5.0 <class 'float'>\n",
            "3.14 <class 'float'>\n",
            "100 <class 'str'>\n",
            "True\n",
            "False\n",
            "bool(1)       =  True\n",
            "bool(0)       =  False\n",
            "bool(-10)     =  True\n",
            "bool(\"\")      =  False\n",
            "bool(\"Hello\") =  True\n",
            "bool([])      =  False\n",
            "bool([1, 2])  =  True\n",
            "[1, 2.7, 3, 'OB'] <class 'list'>\n",
            "{1, 2, 3, 4, 5, 'Agentic AI'} <class 'set'>\n",
            "{'name': 'Alice', 'age': 25} <class 'dict'>\n",
            "(5+0j) <class 'complex'>\n"
          ]
        },
        {
          "output_type": "execute_result",
          "data": {
            "text/plain": [
              "'(5+0j)'"
            ],
            "application/vnd.google.colaboratory.intrinsic+json": {
              "type": "string"
            }
          },
          "metadata": {},
          "execution_count": 31
        }
      ]
    }
  ]
}